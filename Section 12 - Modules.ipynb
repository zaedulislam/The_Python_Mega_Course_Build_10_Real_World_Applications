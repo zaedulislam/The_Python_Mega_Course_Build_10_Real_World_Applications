{
  "nbformat": 4,
  "nbformat_minor": 0,
  "metadata": {
    "colab": {
      "name": "Section 12 - Modules.ipynb",
      "provenance": [],
      "authorship_tag": "ABX9TyMQX4xZCUmaJ7VyV/Tu6BXN",
      "include_colab_link": true
    },
    "kernelspec": {
      "name": "python3",
      "display_name": "Python 3"
    },
    "language_info": {
      "name": "python"
    }
  },
  "cells": [
    {
      "cell_type": "markdown",
      "metadata": {
        "id": "view-in-github",
        "colab_type": "text"
      },
      "source": [
        "<a href=\"https://colab.research.google.com/github/zaedulislam/The_Python_Mega_Course_Build_10_Real_World_Applications/blob/main/Section%2012%3A%20Modules.ipynb\" target=\"_parent\"><img src=\"https://colab.research.google.com/assets/colab-badge.svg\" alt=\"Open In Colab\"/></a>"
      ]
    },
    {
      "cell_type": "markdown",
      "source": [
        "Notion Page: https://www.notion.so/islamzaedul/Section-12-Modules-ce0cbfdfdd334e65a5eb72bdd95989d4"
      ],
      "metadata": {
        "id": "w625bTRWdyLR"
      }
    },
    {
      "cell_type": "markdown",
      "source": [
        "## 83. Builtin Modules"
      ],
      "metadata": {
        "id": "Nb5v6dbCucIQ"
      }
    },
    {
      "cell_type": "markdown",
      "source": [
        "###### To view the **built-in methods** for strings"
      ],
      "metadata": {
        "id": "qepy_E7-umea"
      }
    },
    {
      "cell_type": "code",
      "execution_count": null,
      "metadata": {
        "colab": {
          "base_uri": "https://localhost:8080/"
        },
        "id": "1EPA9dyBuGsD",
        "outputId": "e74e70bb-650b-4e26-be55-4ebc29f32f3b"
      },
      "outputs": [
        {
          "output_type": "execute_result",
          "data": {
            "text/plain": [
              "['__add__',\n",
              " '__class__',\n",
              " '__contains__',\n",
              " '__delattr__',\n",
              " '__dir__',\n",
              " '__doc__',\n",
              " '__eq__',\n",
              " '__format__',\n",
              " '__ge__',\n",
              " '__getattribute__',\n",
              " '__getitem__',\n",
              " '__getnewargs__',\n",
              " '__gt__',\n",
              " '__hash__',\n",
              " '__init__',\n",
              " '__init_subclass__',\n",
              " '__iter__',\n",
              " '__le__',\n",
              " '__len__',\n",
              " '__lt__',\n",
              " '__mod__',\n",
              " '__mul__',\n",
              " '__ne__',\n",
              " '__new__',\n",
              " '__reduce__',\n",
              " '__reduce_ex__',\n",
              " '__repr__',\n",
              " '__rmod__',\n",
              " '__rmul__',\n",
              " '__setattr__',\n",
              " '__sizeof__',\n",
              " '__str__',\n",
              " '__subclasshook__',\n",
              " 'capitalize',\n",
              " 'casefold',\n",
              " 'center',\n",
              " 'count',\n",
              " 'encode',\n",
              " 'endswith',\n",
              " 'expandtabs',\n",
              " 'find',\n",
              " 'format',\n",
              " 'format_map',\n",
              " 'index',\n",
              " 'isalnum',\n",
              " 'isalpha',\n",
              " 'isascii',\n",
              " 'isdecimal',\n",
              " 'isdigit',\n",
              " 'isidentifier',\n",
              " 'islower',\n",
              " 'isnumeric',\n",
              " 'isprintable',\n",
              " 'isspace',\n",
              " 'istitle',\n",
              " 'isupper',\n",
              " 'join',\n",
              " 'ljust',\n",
              " 'lower',\n",
              " 'lstrip',\n",
              " 'maketrans',\n",
              " 'partition',\n",
              " 'replace',\n",
              " 'rfind',\n",
              " 'rindex',\n",
              " 'rjust',\n",
              " 'rpartition',\n",
              " 'rsplit',\n",
              " 'rstrip',\n",
              " 'split',\n",
              " 'splitlines',\n",
              " 'startswith',\n",
              " 'strip',\n",
              " 'swapcase',\n",
              " 'title',\n",
              " 'translate',\n",
              " 'upper',\n",
              " 'zfill']"
            ]
          },
          "metadata": {},
          "execution_count": 1
        }
      ],
      "source": [
        "dir(str)"
      ]
    },
    {
      "cell_type": "markdown",
      "source": [
        "###### To view the **built-in functions**"
      ],
      "metadata": {
        "id": "gK6L0IjHuqYG"
      }
    },
    {
      "cell_type": "code",
      "source": [
        "dir(__builtins__)"
      ],
      "metadata": {
        "colab": {
          "base_uri": "https://localhost:8080/"
        },
        "id": "w6Okd3vZuttm",
        "outputId": "63223100-ce72-40dd-e5eb-2ecd356ff9c8"
      },
      "execution_count": 1,
      "outputs": [
        {
          "output_type": "execute_result",
          "data": {
            "text/plain": [
              "['ArithmeticError',\n",
              " 'AssertionError',\n",
              " 'AttributeError',\n",
              " 'BaseException',\n",
              " 'BlockingIOError',\n",
              " 'BrokenPipeError',\n",
              " 'BufferError',\n",
              " 'BytesWarning',\n",
              " 'ChildProcessError',\n",
              " 'ConnectionAbortedError',\n",
              " 'ConnectionError',\n",
              " 'ConnectionRefusedError',\n",
              " 'ConnectionResetError',\n",
              " 'DeprecationWarning',\n",
              " 'EOFError',\n",
              " 'Ellipsis',\n",
              " 'EnvironmentError',\n",
              " 'Exception',\n",
              " 'False',\n",
              " 'FileExistsError',\n",
              " 'FileNotFoundError',\n",
              " 'FloatingPointError',\n",
              " 'FutureWarning',\n",
              " 'GeneratorExit',\n",
              " 'IOError',\n",
              " 'ImportError',\n",
              " 'ImportWarning',\n",
              " 'IndentationError',\n",
              " 'IndexError',\n",
              " 'InterruptedError',\n",
              " 'IsADirectoryError',\n",
              " 'KeyError',\n",
              " 'KeyboardInterrupt',\n",
              " 'LookupError',\n",
              " 'MemoryError',\n",
              " 'ModuleNotFoundError',\n",
              " 'NameError',\n",
              " 'None',\n",
              " 'NotADirectoryError',\n",
              " 'NotImplemented',\n",
              " 'NotImplementedError',\n",
              " 'OSError',\n",
              " 'OverflowError',\n",
              " 'PendingDeprecationWarning',\n",
              " 'PermissionError',\n",
              " 'ProcessLookupError',\n",
              " 'RecursionError',\n",
              " 'ReferenceError',\n",
              " 'ResourceWarning',\n",
              " 'RuntimeError',\n",
              " 'RuntimeWarning',\n",
              " 'StopAsyncIteration',\n",
              " 'StopIteration',\n",
              " 'SyntaxError',\n",
              " 'SyntaxWarning',\n",
              " 'SystemError',\n",
              " 'SystemExit',\n",
              " 'TabError',\n",
              " 'TimeoutError',\n",
              " 'True',\n",
              " 'TypeError',\n",
              " 'UnboundLocalError',\n",
              " 'UnicodeDecodeError',\n",
              " 'UnicodeEncodeError',\n",
              " 'UnicodeError',\n",
              " 'UnicodeTranslateError',\n",
              " 'UnicodeWarning',\n",
              " 'UserWarning',\n",
              " 'ValueError',\n",
              " 'Warning',\n",
              " 'ZeroDivisionError',\n",
              " '__IPYTHON__',\n",
              " '__build_class__',\n",
              " '__debug__',\n",
              " '__doc__',\n",
              " '__import__',\n",
              " '__loader__',\n",
              " '__name__',\n",
              " '__package__',\n",
              " '__spec__',\n",
              " 'abs',\n",
              " 'all',\n",
              " 'any',\n",
              " 'ascii',\n",
              " 'bin',\n",
              " 'bool',\n",
              " 'breakpoint',\n",
              " 'bytearray',\n",
              " 'bytes',\n",
              " 'callable',\n",
              " 'chr',\n",
              " 'classmethod',\n",
              " 'compile',\n",
              " 'complex',\n",
              " 'copyright',\n",
              " 'credits',\n",
              " 'delattr',\n",
              " 'dict',\n",
              " 'dir',\n",
              " 'display',\n",
              " 'divmod',\n",
              " 'dreload',\n",
              " 'enumerate',\n",
              " 'eval',\n",
              " 'exec',\n",
              " 'execfile',\n",
              " 'filter',\n",
              " 'float',\n",
              " 'format',\n",
              " 'frozenset',\n",
              " 'get_ipython',\n",
              " 'getattr',\n",
              " 'globals',\n",
              " 'hasattr',\n",
              " 'hash',\n",
              " 'help',\n",
              " 'hex',\n",
              " 'id',\n",
              " 'input',\n",
              " 'int',\n",
              " 'isinstance',\n",
              " 'issubclass',\n",
              " 'iter',\n",
              " 'len',\n",
              " 'license',\n",
              " 'list',\n",
              " 'locals',\n",
              " 'map',\n",
              " 'max',\n",
              " 'memoryview',\n",
              " 'min',\n",
              " 'next',\n",
              " 'object',\n",
              " 'oct',\n",
              " 'open',\n",
              " 'ord',\n",
              " 'pow',\n",
              " 'print',\n",
              " 'property',\n",
              " 'range',\n",
              " 'repr',\n",
              " 'reversed',\n",
              " 'round',\n",
              " 'runfile',\n",
              " 'set',\n",
              " 'setattr',\n",
              " 'slice',\n",
              " 'sorted',\n",
              " 'staticmethod',\n",
              " 'str',\n",
              " 'sum',\n",
              " 'super',\n",
              " 'tuple',\n",
              " 'type',\n",
              " 'vars',\n",
              " 'zip']"
            ]
          },
          "metadata": {},
          "execution_count": 1
        }
      ]
    },
    {
      "cell_type": "markdown",
      "source": [
        "##### The built-in functions and the string methods are written inside the python software that we download and install from python.org. So that software is written in C language. Therefore, these methods and functions are also written in C language. And as we can see these names here are available immediately in the Python interpreter."
      ],
      "metadata": {
        "id": "THiUF9HLu0FO"
      }
    },
    {
      "cell_type": "markdown",
      "source": [
        "###### To view the **built-in modules** in Python software"
      ],
      "metadata": {
        "id": "833KJuPYu1L5"
      }
    },
    {
      "cell_type": "code",
      "source": [
        "import sys\n",
        "sys.builtin_module_names"
      ],
      "metadata": {
        "colab": {
          "base_uri": "https://localhost:8080/"
        },
        "id": "29znKq7nu3mE",
        "outputId": "74efb980-fec7-4438-dab4-a6ec446461f6"
      },
      "execution_count": null,
      "outputs": [
        {
          "output_type": "execute_result",
          "data": {
            "text/plain": [
              "('_abc',\n",
              " '_ast',\n",
              " '_bisect',\n",
              " '_blake2',\n",
              " '_codecs',\n",
              " '_collections',\n",
              " '_datetime',\n",
              " '_elementtree',\n",
              " '_functools',\n",
              " '_heapq',\n",
              " '_imp',\n",
              " '_io',\n",
              " '_locale',\n",
              " '_md5',\n",
              " '_operator',\n",
              " '_pickle',\n",
              " '_posixsubprocess',\n",
              " '_random',\n",
              " '_sha1',\n",
              " '_sha256',\n",
              " '_sha3',\n",
              " '_sha512',\n",
              " '_signal',\n",
              " '_socket',\n",
              " '_sre',\n",
              " '_stat',\n",
              " '_string',\n",
              " '_struct',\n",
              " '_symtable',\n",
              " '_thread',\n",
              " '_tracemalloc',\n",
              " '_warnings',\n",
              " '_weakref',\n",
              " 'array',\n",
              " 'atexit',\n",
              " 'binascii',\n",
              " 'builtins',\n",
              " 'errno',\n",
              " 'faulthandler',\n",
              " 'fcntl',\n",
              " 'gc',\n",
              " 'grp',\n",
              " 'itertools',\n",
              " 'marshal',\n",
              " 'math',\n",
              " 'posix',\n",
              " 'pwd',\n",
              " 'pyexpat',\n",
              " 'select',\n",
              " 'spwd',\n",
              " 'sys',\n",
              " 'syslog',\n",
              " 'time',\n",
              " 'unicodedata',\n",
              " 'xxsubtype',\n",
              " 'zipimport',\n",
              " 'zlib')"
            ]
          },
          "metadata": {},
          "execution_count": 3
        }
      ]
    },
    {
      "cell_type": "markdown",
      "source": [
        "###### To view how a **built-in method** works"
      ],
      "metadata": {
        "id": "pTFaGIqau8oj"
      }
    },
    {
      "cell_type": "code",
      "source": [
        "# \"time\" is a built-in module\n",
        "import time \n",
        "dir(time)\n",
        "help(time.sleep) "
      ],
      "metadata": {
        "colab": {
          "base_uri": "https://localhost:8080/"
        },
        "id": "xuGmJjD2vAIg",
        "outputId": "e3ecd734-b3f8-4d97-f2c9-a3051538d68c"
      },
      "execution_count": 5,
      "outputs": [
        {
          "output_type": "stream",
          "name": "stdout",
          "text": [
            "Help on built-in function sleep in module time:\n",
            "\n",
            "sleep(...)\n",
            "    sleep(seconds)\n",
            "    \n",
            "    Delay execution for a given number of seconds.  The argument may be\n",
            "    a floating point number for subsecond precision.\n",
            "\n"
          ]
        }
      ]
    },
    {
      "cell_type": "markdown",
      "source": [
        "### Problem Statement\n",
        "Let's suppose a file is being generated on the server every 10 seconds. The software in the server is getting this data from somewhere and it's writing new content every 10 seconds. So we are getting new content every 10 seconds. So we want to print all the contents of the file and then have the execution sleep for 10 seconds."
      ],
      "metadata": {
        "id": "cRfonS7qvCSX"
      }
    },
    {
      "cell_type": "code",
      "source": [
        "import time\n",
        "\n",
        "while True:\n",
        "    with open(\"fruits.txt\") as file:\n",
        "        print(file.read())\n",
        "        time.sleep(10)"
      ],
      "metadata": {
        "id": "0rWTIOGuvEh4"
      },
      "execution_count": null,
      "outputs": []
    }
  ]
}
