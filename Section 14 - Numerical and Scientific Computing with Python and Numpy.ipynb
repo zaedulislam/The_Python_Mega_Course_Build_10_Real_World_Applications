{
  "nbformat": 4,
  "nbformat_minor": 0,
  "metadata": {
    "colab": {
      "name": "Section 14 - Numerical and Scientific Computing with Python and Numpy.ipynb",
      "provenance": [],
      "collapsed_sections": [],
      "mount_file_id": "1i5PDv70axg175zoRq9fMpmzBPPar2JAw",
      "authorship_tag": "ABX9TyO5MR5cwbLjhWn3sc6ZinDK",
      "include_colab_link": true
    },
    "kernelspec": {
      "name": "python3",
      "display_name": "Python 3"
    },
    "language_info": {
      "name": "python"
    }
  },
  "cells": [
    {
      "cell_type": "markdown",
      "metadata": {
        "id": "view-in-github",
        "colab_type": "text"
      },
      "source": [
        "<a href=\"https://colab.research.google.com/github/zaedulislam/The_Python_Mega_Course_Build_10_Real_World_Applications/blob/main/Section%2014%20-%20Numerical%20and%20Scientific%20Computing%20with%20Python%20and%20Numpy.ipynb\" target=\"_parent\"><img src=\"https://colab.research.google.com/assets/colab-badge.svg\" alt=\"Open In Colab\"/></a>"
      ]
    },
    {
      "cell_type": "markdown",
      "source": [
        "**numpy** is a base library of **pandas** and **OpenCV** (library for Image Processing)"
      ],
      "metadata": {
        "id": "FsN9nt4_DK7b"
      }
    },
    {
      "cell_type": "markdown",
      "source": [
        "# 110. Installing OpenCV"
      ],
      "metadata": {
        "id": "tq6aZw6TEPoK"
      }
    },
    {
      "cell_type": "code",
      "execution_count": 26,
      "metadata": {
        "id": "xTgFfDaGDEi2"
      },
      "outputs": [],
      "source": [
        "import cv2"
      ]
    },
    {
      "cell_type": "markdown",
      "source": [
        "# 111. Convert Images to Numpy Arrays"
      ],
      "metadata": {
        "id": "QVpvyvWYESgc"
      }
    },
    {
      "cell_type": "markdown",
      "source": [
        "### Reading as Gray scale"
      ],
      "metadata": {
        "id": "Elz_68U7N-ln"
      }
    },
    {
      "cell_type": "code",
      "source": [
        "imageGray = cv2.imread(\"/content/drive/MyDrive/Colab Notebooks/The Python Mega Course 2022: Build 10 Real-World Programs/smallgray.png\", 0)\n",
        "imageGray"
      ],
      "metadata": {
        "colab": {
          "base_uri": "https://localhost:8080/"
        },
        "id": "8zzYcYbSEUIy",
        "outputId": "9b906f7b-aaa8-40e0-e64d-8d5abd879c33"
      },
      "execution_count": 27,
      "outputs": [
        {
          "output_type": "execute_result",
          "data": {
            "text/plain": [
              "array([[187, 158, 104, 121, 143],\n",
              "       [198, 125, 255, 255, 147],\n",
              "       [209, 134, 255,  97, 182]], dtype=uint8)"
            ]
          },
          "metadata": {},
          "execution_count": 27
        }
      ]
    },
    {
      "cell_type": "markdown",
      "source": [
        "### Reading as BGR (RGB)\n",
        "imageBGR gives transpose matrix of the image"
      ],
      "metadata": {
        "id": "jct2RQ1_N_Jx"
      }
    },
    {
      "cell_type": "code",
      "source": [
        "imageBGR = cv2.imread(\"/content/drive/MyDrive/Colab Notebooks/The Python Mega Course 2022: Build 10 Real-World Programs/smallgray.png\", 1)\n",
        "imageBGR"
      ],
      "metadata": {
        "colab": {
          "base_uri": "https://localhost:8080/"
        },
        "id": "UKAgeNu8N93W",
        "outputId": "941d8af0-d925-43c9-eabd-f5681f1d8029"
      },
      "execution_count": 28,
      "outputs": [
        {
          "output_type": "execute_result",
          "data": {
            "text/plain": [
              "array([[[187, 187, 187],\n",
              "        [158, 158, 158],\n",
              "        [104, 104, 104],\n",
              "        [121, 121, 121],\n",
              "        [143, 143, 143]],\n",
              "\n",
              "       [[198, 198, 198],\n",
              "        [125, 125, 125],\n",
              "        [255, 255, 255],\n",
              "        [255, 255, 255],\n",
              "        [147, 147, 147]],\n",
              "\n",
              "       [[209, 209, 209],\n",
              "        [134, 134, 134],\n",
              "        [255, 255, 255],\n",
              "        [ 97,  97,  97],\n",
              "        [182, 182, 182]]], dtype=uint8)"
            ]
          },
          "metadata": {},
          "execution_count": 28
        }
      ]
    },
    {
      "cell_type": "markdown",
      "source": [
        "## Convert Numpy Arrays to Images "
      ],
      "metadata": {
        "id": "Bp5-jQHJOxKW"
      }
    },
    {
      "cell_type": "code",
      "source": [
        "cv2.imwrite(\"newsmallgray.png\", imageGray)"
      ],
      "metadata": {
        "colab": {
          "base_uri": "https://localhost:8080/"
        },
        "id": "xHEuTRyuO3-L",
        "outputId": "ddf60ee2-513a-4e9e-c0cb-4528093553bf"
      },
      "execution_count": 29,
      "outputs": [
        {
          "output_type": "execute_result",
          "data": {
            "text/plain": [
              "True"
            ]
          },
          "metadata": {},
          "execution_count": 29
        }
      ]
    },
    {
      "cell_type": "markdown",
      "source": [
        "# Installing OpenCV\n",
        "\n",
        "\n",
        "<div data-purpose=\"safely-set-inner-html:rich-text-viewer:html\" class=\"article-asset--content--1dAQ9 rich-text-viewer--rich-text-viewer--19N-I\"><p>We will use the OpenCV image processing&nbsp;library. Let us first make sure you have installed the OpenCV&nbsp;library. OpenCV is also referred to as <code>cv2</code> in Python.</p><p><br></p><h4><strong>How to Install OpenCV</strong></h4><p>To install OpenCV for Python 3.9 on Mac or Linux, execute the following in the terminal:</p><p><code>python3.9 -m pip install opencv-python</code></p><p>To install OpenCV for Python 3.9 on Windows, execute the following in the terminal:</p><p><code>py -3.9 -m pip install opencv-python</code></p><p><strong>Note:&nbsp;The above commands work for Python 3.9. You may need to replace the </strong><code><strong>3.9</strong></code><strong> part from the commands with the number of the Python version you are using in your system. For example, you may need to type </strong><code>python3.10</code><strong> instead of </strong><code>python3.9.</code></p><p>Once the installation completes, open a Python session and try:</p><p><code>import cv2</code>&nbsp;</p><p>If you get no errors, you installed OpenCV successfully. If you get an error, see the FAQs below:</p><p><br></p><p><strong>FAQs</strong></p><p><strong>1. My OpenCV installation didn't work on Windows</strong></p><p>Solution: </p><p>1. Uninstall OpenCV with:</p><p><code>py -3.9 -m pip uninstall opencv-python</code></p><p>2. Download a wheel (.whl) file from <a target=\"_blank\" rel=\"noopener noreferrer\" href=\"http://www.lfd.uci.edu/~gohlke/pythonlibs/#opencv\">this link</a> and install the file with pip. Make sure you download&nbsp;the correct file for your Windows and your Python versions. For example, for&nbsp;Python 3.6 on&nbsp;Windows 64-bit, you would do this:</p><p><code>py -3.9 -m pip install opencv_python‑3.2.0‑cp39‑cp39m‑win_amd64.whl</code>&nbsp;</p><p>3. Try to import cv2 in Python again. If there's still an error, type the following again in the command line:</p><p><code>py -3.9 -m pip install opencv-python</code>&nbsp;<br>4. Try importing cv2 again. It should work at this point.<strong> </strong></p><p><br></p><p><strong>2. My OpenCV installation didn't work on Mac</strong></p><p>Solution:</p><p>If <code>python3.9 -m pip install opencv-python</code> here are alternative steps to install OpenCV:</p><p>1. Install <em>brew</em>.</p><p>To install <em>brew, </em>open your terminal, and execute the following:</p><p><code>/usr/bin/ruby -e \"$(curl -fsSL https://raw.githubusercontent.com/Homebrew/install/master/install)\"</code></p><p>2. OpenCV depends on GTK+, so install that dependency&nbsp;first with brew (always from the terminal):<br></p><p><code>brew install gtk+</code>&nbsp;<br></p><p>3. Install OpenCV with brew:</p><p><code>brew install opencv</code>&nbsp;<br></p><p>4. Open Python and try to import OpenCV with:</p><p><code>import cv2</code>&nbsp;<br></p><p>If you get no errors, you installed OpenCV successfully.</p><p><br></p><p><strong>3. My OpenCV installation didn't work on Linux</strong></p><p>1. Open your terminal and execute the following commands, one by one:</p><div class=\"ud-component--base-components--code-block\"><div><pre class=\"prettyprint linenums prettyprinted\" role=\"presentation\" style=\"\"><ol class=\"linenums\"><li class=\"L0\"><span class=\"pln\">sudo apt</span><span class=\"pun\">-</span><span class=\"kwd\">get</span><span class=\"pln\"> install libqt4</span><span class=\"pun\">-</span><span class=\"pln\">dev</span></li><li class=\"L1\"><span class=\"pln\">cmake </span><span class=\"pun\">-</span><span class=\"pln\">D WITH_QT</span><span class=\"pun\">=</span><span class=\"pln\">ON </span><span class=\"pun\">..</span></li><li class=\"L2\"><span class=\"pln\">make</span></li><li class=\"L3\"><span class=\"pln\">sudo make install</span></li></ol></pre></div></div><p>2.&nbsp;2.&nbsp;If the above commands don't work, execute this:</p><div class=\"ud-component--base-components--code-block\"><div><pre class=\"prettyprint linenums prettyprinted\" role=\"presentation\" style=\"\"><ol class=\"linenums\"><li class=\"L0\"><span class=\"pln\">sudo apt</span><span class=\"pun\">-</span><span class=\"kwd\">get</span><span class=\"pln\"> install libopencv</span><span class=\"pun\">-*</span></li></ol></pre></div></div><p>3.&nbsp;Then, install OpenCV with pip:</p><p><code>python3.9 -m pip install opencv-python</code>&nbsp;<br></p><p>4. Import cv2 in Python.&nbsp;If you get no errors, you installed OpenCV successfully.</p></div>"
      ],
      "metadata": {
        "id": "WF65aJIRDXlW"
      }
    }
  ]
}