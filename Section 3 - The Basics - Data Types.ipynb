{
  "nbformat": 4,
  "nbformat_minor": 0,
  "metadata": {
    "colab": {
      "name": "Section 3 - The Basics - Data Types.ipynb",
      "provenance": [],
      "collapsed_sections": [],
      "authorship_tag": "ABX9TyPALPpt7w/YMTBbfry621L/",
      "include_colab_link": true
    },
    "kernelspec": {
      "name": "python3",
      "display_name": "Python 3"
    },
    "language_info": {
      "name": "python"
    }
  },
  "cells": [
    {
      "cell_type": "markdown",
      "metadata": {
        "id": "view-in-github",
        "colab_type": "text"
      },
      "source": [
        "<a href=\"https://colab.research.google.com/github/zaedulislam/The_Python_Mega_Course_Build_10_Real_World_Applications/blob/main/Section%203%20-%20The%20Basics%20-%20Data%20Types.ipynb\" target=\"_parent\"><img src=\"https://colab.research.google.com/assets/colab-badge.svg\" alt=\"Open In Colab\"/></a>"
      ]
    },
    {
      "cell_type": "markdown",
      "source": [
        "## 15. Ranges"
      ],
      "metadata": {
        "id": "9jtfbQPPT1BJ"
      }
    },
    {
      "cell_type": "markdown",
      "source": [
        "<div data-purpose=\"safely-set-inner-html:rich-text-viewer:html\" class=\"article-asset--content--1dAQ9 rich-text-viewer--rich-text-viewer--19N-I\"><p>We can create a list of numbers automatically using a <code>range</code>. For example:</p><p><code>list(range(1, 10))</code></p><p>That will output:</p><p><code>[1, 2, 3, 4, 5, 6, 7, 8, 9]</code> </p><p>As we can see we just needed to specify the list boundaries inside <code>range()</code>. So, we specified 1 and 10. Note that 10 is not included in the list. The generated list always runs up to one number before the upper number. In our example, it goes up to 9 since the upper number is 10.</p><p>We can also specify a step as a third argument:</p><p><code>list(range(1, 10, 2))</code></p><p>That will output:</p><p><code>[1, 3, 5, 7, 9]</code></p><p>So, the count happens every two items starting from 1 and ending at 9.</p></div>"
      ],
      "metadata": {
        "id": "XKAcT9XDTwhF"
      }
    },
    {
      "cell_type": "code",
      "source": [
        "dir(list)"
      ],
      "metadata": {
        "colab": {
          "base_uri": "https://localhost:8080/"
        },
        "id": "cSHpM4IVUcrG",
        "outputId": "30e2d63c-764c-4d86-fdde-99f0603f37df"
      },
      "execution_count": null,
      "outputs": [
        {
          "output_type": "execute_result",
          "data": {
            "text/plain": [
              "['__add__',\n",
              " '__class__',\n",
              " '__contains__',\n",
              " '__delattr__',\n",
              " '__delitem__',\n",
              " '__dir__',\n",
              " '__doc__',\n",
              " '__eq__',\n",
              " '__format__',\n",
              " '__ge__',\n",
              " '__getattribute__',\n",
              " '__getitem__',\n",
              " '__gt__',\n",
              " '__hash__',\n",
              " '__iadd__',\n",
              " '__imul__',\n",
              " '__init__',\n",
              " '__init_subclass__',\n",
              " '__iter__',\n",
              " '__le__',\n",
              " '__len__',\n",
              " '__lt__',\n",
              " '__mul__',\n",
              " '__ne__',\n",
              " '__new__',\n",
              " '__reduce__',\n",
              " '__reduce_ex__',\n",
              " '__repr__',\n",
              " '__reversed__',\n",
              " '__rmul__',\n",
              " '__setattr__',\n",
              " '__setitem__',\n",
              " '__sizeof__',\n",
              " '__str__',\n",
              " '__subclasshook__',\n",
              " 'append',\n",
              " 'clear',\n",
              " 'copy',\n",
              " 'count',\n",
              " 'extend',\n",
              " 'index',\n",
              " 'insert',\n",
              " 'pop',\n",
              " 'remove',\n",
              " 'reverse',\n",
              " 'sort']"
            ]
          },
          "metadata": {},
          "execution_count": 1
        }
      ]
    },
    {
      "cell_type": "code",
      "source": [
        "dir(int)"
      ],
      "metadata": {
        "colab": {
          "base_uri": "https://localhost:8080/"
        },
        "id": "8QD0asrbUo0i",
        "outputId": "bb1edcd8-f9ee-4d70-c530-96d66e91a154"
      },
      "execution_count": null,
      "outputs": [
        {
          "output_type": "execute_result",
          "data": {
            "text/plain": [
              "['__abs__',\n",
              " '__add__',\n",
              " '__and__',\n",
              " '__bool__',\n",
              " '__ceil__',\n",
              " '__class__',\n",
              " '__delattr__',\n",
              " '__dir__',\n",
              " '__divmod__',\n",
              " '__doc__',\n",
              " '__eq__',\n",
              " '__float__',\n",
              " '__floor__',\n",
              " '__floordiv__',\n",
              " '__format__',\n",
              " '__ge__',\n",
              " '__getattribute__',\n",
              " '__getnewargs__',\n",
              " '__gt__',\n",
              " '__hash__',\n",
              " '__index__',\n",
              " '__init__',\n",
              " '__init_subclass__',\n",
              " '__int__',\n",
              " '__invert__',\n",
              " '__le__',\n",
              " '__lshift__',\n",
              " '__lt__',\n",
              " '__mod__',\n",
              " '__mul__',\n",
              " '__ne__',\n",
              " '__neg__',\n",
              " '__new__',\n",
              " '__or__',\n",
              " '__pos__',\n",
              " '__pow__',\n",
              " '__radd__',\n",
              " '__rand__',\n",
              " '__rdivmod__',\n",
              " '__reduce__',\n",
              " '__reduce_ex__',\n",
              " '__repr__',\n",
              " '__rfloordiv__',\n",
              " '__rlshift__',\n",
              " '__rmod__',\n",
              " '__rmul__',\n",
              " '__ror__',\n",
              " '__round__',\n",
              " '__rpow__',\n",
              " '__rrshift__',\n",
              " '__rshift__',\n",
              " '__rsub__',\n",
              " '__rtruediv__',\n",
              " '__rxor__',\n",
              " '__setattr__',\n",
              " '__sizeof__',\n",
              " '__str__',\n",
              " '__sub__',\n",
              " '__subclasshook__',\n",
              " '__truediv__',\n",
              " '__trunc__',\n",
              " '__xor__',\n",
              " 'bit_length',\n",
              " 'conjugate',\n",
              " 'denominator',\n",
              " 'from_bytes',\n",
              " 'imag',\n",
              " 'numerator',\n",
              " 'real',\n",
              " 'to_bytes']"
            ]
          },
          "metadata": {},
          "execution_count": 2
        }
      ]
    },
    {
      "cell_type": "code",
      "source": [
        "dir(float)"
      ],
      "metadata": {
        "colab": {
          "base_uri": "https://localhost:8080/"
        },
        "id": "_LpcZeEWUqtz",
        "outputId": "37815cae-0009-4fe3-9f01-83c8c66913c8"
      },
      "execution_count": null,
      "outputs": [
        {
          "output_type": "execute_result",
          "data": {
            "text/plain": [
              "['__abs__',\n",
              " '__add__',\n",
              " '__bool__',\n",
              " '__class__',\n",
              " '__delattr__',\n",
              " '__dir__',\n",
              " '__divmod__',\n",
              " '__doc__',\n",
              " '__eq__',\n",
              " '__float__',\n",
              " '__floordiv__',\n",
              " '__format__',\n",
              " '__ge__',\n",
              " '__getattribute__',\n",
              " '__getformat__',\n",
              " '__getnewargs__',\n",
              " '__gt__',\n",
              " '__hash__',\n",
              " '__init__',\n",
              " '__init_subclass__',\n",
              " '__int__',\n",
              " '__le__',\n",
              " '__lt__',\n",
              " '__mod__',\n",
              " '__mul__',\n",
              " '__ne__',\n",
              " '__neg__',\n",
              " '__new__',\n",
              " '__pos__',\n",
              " '__pow__',\n",
              " '__radd__',\n",
              " '__rdivmod__',\n",
              " '__reduce__',\n",
              " '__reduce_ex__',\n",
              " '__repr__',\n",
              " '__rfloordiv__',\n",
              " '__rmod__',\n",
              " '__rmul__',\n",
              " '__round__',\n",
              " '__rpow__',\n",
              " '__rsub__',\n",
              " '__rtruediv__',\n",
              " '__set_format__',\n",
              " '__setattr__',\n",
              " '__sizeof__',\n",
              " '__str__',\n",
              " '__sub__',\n",
              " '__subclasshook__',\n",
              " '__truediv__',\n",
              " '__trunc__',\n",
              " 'as_integer_ratio',\n",
              " 'conjugate',\n",
              " 'fromhex',\n",
              " 'hex',\n",
              " 'imag',\n",
              " 'is_integer',\n",
              " 'real']"
            ]
          },
          "metadata": {},
          "execution_count": 3
        }
      ]
    },
    {
      "cell_type": "code",
      "source": [
        "help(str.upper)"
      ],
      "metadata": {
        "colab": {
          "base_uri": "https://localhost:8080/"
        },
        "id": "EFDF6s-tUzNj",
        "outputId": "cd5124d1-3110-4844-b044-05fb99ae6498"
      },
      "execution_count": null,
      "outputs": [
        {
          "output_type": "stream",
          "name": "stdout",
          "text": [
            "Help on method_descriptor:\n",
            "\n",
            "upper(self, /)\n",
            "    Return a copy of the string converted to uppercase.\n",
            "\n"
          ]
        }
      ]
    },
    {
      "cell_type": "code",
      "source": [
        "\"python\".upper()"
      ],
      "metadata": {
        "colab": {
          "base_uri": "https://localhost:8080/",
          "height": 35
        },
        "id": "IXH5enH0U-6X",
        "outputId": "12f2d2b3-e1f7-449c-b628-7ffabed1db27"
      },
      "execution_count": null,
      "outputs": [
        {
          "output_type": "execute_result",
          "data": {
            "application/vnd.google.colaboratory.intrinsic+json": {
              "type": "string"
            },
            "text/plain": [
              "'PYTHON'"
            ]
          },
          "metadata": {},
          "execution_count": 9
        }
      ]
    },
    {
      "cell_type": "code",
      "source": [
        "\"python\".title()"
      ],
      "metadata": {
        "colab": {
          "base_uri": "https://localhost:8080/",
          "height": 35
        },
        "id": "5M4REbLDVOsV",
        "outputId": "5087ddc1-fa42-49fb-bcf4-f2f5a2db1bba"
      },
      "execution_count": null,
      "outputs": [
        {
          "output_type": "execute_result",
          "data": {
            "application/vnd.google.colaboratory.intrinsic+json": {
              "type": "string"
            },
            "text/plain": [
              "'Python'"
            ]
          },
          "metadata": {},
          "execution_count": 8
        }
      ]
    },
    {
      "cell_type": "markdown",
      "source": [
        "## 22. Tuple Types"
      ],
      "metadata": {
        "id": "180KLR0Cc8_j"
      }
    },
    {
      "cell_type": "markdown",
      "source": [
        "### Tuple vs List"
      ],
      "metadata": {
        "id": "TrC7mk55dPAM"
      }
    },
    {
      "cell_type": "markdown",
      "source": [
        "\n",
        "The real difference there is that tuples are **immutable** and lists are **mutable**."
      ],
      "metadata": {
        "id": "ZvxZ-Mp4dILV"
      }
    },
    {
      "cell_type": "code",
      "source": [
        "mondayTemperatures = (1, 4, 5)\n",
        "print(mondayTemperatures)\n",
        "\n",
        "mondayTemperatures.append(6)"
      ],
      "metadata": {
        "colab": {
          "base_uri": "https://localhost:8080/",
          "height": 217
        },
        "id": "MgjyXuIfdWYc",
        "outputId": "6a81aeb2-0d8b-48f9-bafd-22804753e088"
      },
      "execution_count": 3,
      "outputs": [
        {
          "output_type": "stream",
          "name": "stdout",
          "text": [
            "(1, 4, 5)\n"
          ]
        },
        {
          "output_type": "error",
          "ename": "AttributeError",
          "evalue": "ignored",
          "traceback": [
            "\u001b[0;31m---------------------------------------------------------------------------\u001b[0m",
            "\u001b[0;31mAttributeError\u001b[0m                            Traceback (most recent call last)",
            "\u001b[0;32m<ipython-input-3-8f0218f53370>\u001b[0m in \u001b[0;36m<module>\u001b[0;34m()\u001b[0m\n\u001b[1;32m      2\u001b[0m \u001b[0mprint\u001b[0m\u001b[0;34m(\u001b[0m\u001b[0mmondayTemperatures\u001b[0m\u001b[0;34m)\u001b[0m\u001b[0;34m\u001b[0m\u001b[0;34m\u001b[0m\u001b[0m\n\u001b[1;32m      3\u001b[0m \u001b[0;34m\u001b[0m\u001b[0m\n\u001b[0;32m----> 4\u001b[0;31m \u001b[0mmondayTemperatures\u001b[0m\u001b[0;34m.\u001b[0m\u001b[0mappend\u001b[0m\u001b[0;34m(\u001b[0m\u001b[0;36m6\u001b[0m\u001b[0;34m)\u001b[0m\u001b[0;34m\u001b[0m\u001b[0;34m\u001b[0m\u001b[0m\n\u001b[0m",
            "\u001b[0;31mAttributeError\u001b[0m: 'tuple' object has no attribute 'append'"
          ]
        }
      ]
    },
    {
      "cell_type": "code",
      "source": [
        "mondayTemperatures.remove(4)"
      ],
      "metadata": {
        "colab": {
          "base_uri": "https://localhost:8080/",
          "height": 165
        },
        "id": "wON-AK-dd7ho",
        "outputId": "9e70337f-d7a5-4c89-c427-76ef35ef9a89"
      },
      "execution_count": 6,
      "outputs": [
        {
          "output_type": "error",
          "ename": "AttributeError",
          "evalue": "ignored",
          "traceback": [
            "\u001b[0;31m---------------------------------------------------------------------------\u001b[0m",
            "\u001b[0;31mAttributeError\u001b[0m                            Traceback (most recent call last)",
            "\u001b[0;32m<ipython-input-6-f74d4ba01af6>\u001b[0m in \u001b[0;36m<module>\u001b[0;34m()\u001b[0m\n\u001b[0;32m----> 1\u001b[0;31m \u001b[0mmondayTemperatures\u001b[0m\u001b[0;34m.\u001b[0m\u001b[0mremove\u001b[0m\u001b[0;34m(\u001b[0m\u001b[0;36m4\u001b[0m\u001b[0;34m)\u001b[0m\u001b[0;34m\u001b[0m\u001b[0;34m\u001b[0m\u001b[0m\n\u001b[0m",
            "\u001b[0;31mAttributeError\u001b[0m: 'tuple' object has no attribute 'remove'"
          ]
        }
      ]
    },
    {
      "cell_type": "code",
      "source": [
        "tuesdayTemperatures = [1, 2, 3]\n",
        "print(tuesdayTemperatures)\n",
        "\n",
        "tuesdayTemperatures.append(-2)\n",
        "print(tuesdayTemperatures)"
      ],
      "metadata": {
        "colab": {
          "base_uri": "https://localhost:8080/"
        },
        "id": "QNSCvjZSdmH2",
        "outputId": "c79d1a3b-3f45-4501-e7aa-64d09100677f"
      },
      "execution_count": 5,
      "outputs": [
        {
          "output_type": "stream",
          "name": "stdout",
          "text": [
            "[1, 2, 3]\n",
            "[1, 2, 3, -2]\n"
          ]
        }
      ]
    },
    {
      "cell_type": "code",
      "source": [
        "tuesdayTemperatures.remove(3)\n",
        "print(tuesdayTemperatures)"
      ],
      "metadata": {
        "colab": {
          "base_uri": "https://localhost:8080/"
        },
        "id": "-OLKEtcNeARP",
        "outputId": "933e9c6f-b6aa-4c08-de9e-d1276d4e8128"
      },
      "execution_count": 7,
      "outputs": [
        {
          "output_type": "stream",
          "name": "stdout",
          "text": [
            "[1, 2, -2]\n"
          ]
        }
      ]
    },
    {
      "cell_type": "markdown",
      "source": [
        "### Problem Statement\n",
        "<p>Create a <code>color_codes</code> variable and assign a tuple to it. The tuple should contain three tuples as items. </p>"
      ],
      "metadata": {
        "id": "OG4HoWNeefGM"
      }
    },
    {
      "cell_type": "code",
      "source": [
        "color_codes = ((1,2,3), (4,5,6), (7,8,9))"
      ],
      "metadata": {
        "id": "2C8d6vaZeTsC"
      },
      "execution_count": 8,
      "outputs": []
    },
    {
      "cell_type": "markdown",
      "source": [
        "### Problem Statement\n",
        "<p>Assign a dictionary to variable <code>day_temperatures</code>. The dictionary should contain three keys: <code>'morning',</code> <code>'noon',</code> and <code>'evening' </code>and each key should contain a <strong>tuple</strong> as value. Each tuple should contain three floats.</p>"
      ],
      "metadata": {
        "id": "AskbKs9ReioO"
      }
    },
    {
      "cell_type": "code",
      "source": [
        "day_temperatures = {'morning': (1.1 , 2.2, 3.4), 'noon': (2.3, 4.5, 3.1), 'evening': (2.4, 3.5, 6.5)}"
      ],
      "metadata": {
        "id": "khM917VEecC9"
      },
      "execution_count": 9,
      "outputs": []
    },
    {
      "cell_type": "markdown",
      "source": [
        "## Cheatsheet (Data Types)\n",
        "\n",
        "<div data-purpose=\"safely-set-inner-html:rich-text-viewer:html\" class=\"article-asset--content--1dAQ9 rich-text-viewer--rich-text-viewer--19N-I\"><p>In this section, you learned that:</p><ul><li><p><strong>Integers</strong> are for representing whole numbers:</p></li></ul><div class=\"ud-component--base-components--code-block\"><div><pre class=\"prettyprint linenums prettyprinted\" role=\"presentation\" style=\"\"><ol class=\"linenums\"><li class=\"L0\"><span class=\"pln\">rank </span><span class=\"pun\">=</span><span class=\"pln\"> </span><span class=\"lit\">10</span></li><li class=\"L1\"><span class=\"pln\">eggs </span><span class=\"pun\">=</span><span class=\"pln\"> </span><span class=\"lit\">12</span></li><li class=\"L2\"><span class=\"pln\">people </span><span class=\"pun\">=</span><span class=\"pln\"> </span><span class=\"lit\">3</span></li></ol></pre></div></div><ul><li><p><strong>Floats</strong> represent continuous values:</p></li></ul><div class=\"ud-component--base-components--code-block\"><div><pre class=\"prettyprint linenums prettyprinted\" role=\"presentation\" style=\"\"><ol class=\"linenums\"><li class=\"L0\"><span class=\"pln\">temperature </span><span class=\"pun\">=</span><span class=\"pln\"> </span><span class=\"lit\">10.2</span></li><li class=\"L1\"><span class=\"pln\">rainfall </span><span class=\"pun\">=</span><span class=\"pln\"> </span><span class=\"lit\">5.98</span></li><li class=\"L2\"><span class=\"pln\">elevation </span><span class=\"pun\">=</span><span class=\"pln\"> </span><span class=\"lit\">1031.88</span></li></ol></pre></div></div><ul><li><p><strong>Strings</strong> represent any text:</p></li></ul><div class=\"ud-component--base-components--code-block\"><div><pre class=\"prettyprint linenums prettyprinted\" role=\"presentation\" style=\"\"><ol class=\"linenums\"><li class=\"L0\"><span class=\"pln\">message </span><span class=\"pun\">=</span><span class=\"pln\"> </span><span class=\"str\">\"Welcome to our online shop!\"</span></li><li class=\"L1\"><span class=\"pln\">name </span><span class=\"pun\">=</span><span class=\"pln\"> </span><span class=\"str\">\"John\"</span></li><li class=\"L2\"><span class=\"pln\">serial </span><span class=\"pun\">=</span><span class=\"pln\"> </span><span class=\"str\">\"R001991981SW\"</span></li></ol></pre></div></div><ul><li><p><strong>Lists</strong> represent arrays of values that may change during the course of the program:</p></li></ul><div class=\"ud-component--base-components--code-block\"><div><pre class=\"prettyprint linenums prettyprinted\" role=\"presentation\" style=\"\"><ol class=\"linenums\"><li class=\"L0\"><span class=\"pln\">members </span><span class=\"pun\">=</span><span class=\"pln\"> </span><span class=\"pun\">[</span><span class=\"str\">\"Sim Soony\"</span><span class=\"pun\">,</span><span class=\"pln\"> </span><span class=\"str\">\"Marry Roundknee\"</span><span class=\"pun\">,</span><span class=\"pln\"> </span><span class=\"str\">\"Jack Corridor\"</span><span class=\"pun\">]</span></li><li class=\"L1\"><span class=\"pln\">pixel_values </span><span class=\"pun\">=</span><span class=\"pln\"> </span><span class=\"pun\">[</span><span class=\"lit\">252</span><span class=\"pun\">,</span><span class=\"pln\"> </span><span class=\"lit\">251</span><span class=\"pun\">,</span><span class=\"pln\"> </span><span class=\"lit\">251</span><span class=\"pun\">,</span><span class=\"pln\"> </span><span class=\"lit\">253</span><span class=\"pun\">,</span><span class=\"pln\"> </span><span class=\"lit\">250</span><span class=\"pun\">,</span><span class=\"pln\"> </span><span class=\"lit\">248</span><span class=\"pun\">,</span><span class=\"pln\"> </span><span class=\"lit\">247</span><span class=\"pun\">]</span></li></ol></pre></div></div><ul><li><p><strong>Dictionaries</strong> represent pairs of keys and values:</p></li></ul><div class=\"ud-component--base-components--code-block\"><div><pre class=\"prettyprint linenums prettyprinted\" role=\"presentation\" style=\"\"><ol class=\"linenums\"><li class=\"L0\"><span class=\"pln\">phone_numbers </span><span class=\"pun\">=</span><span class=\"pln\"> </span><span class=\"pun\">{</span><span class=\"str\">\"John Smith\"</span><span class=\"pun\">:</span><span class=\"pln\">&nbsp;</span><span class=\"str\">\"+37682929928\"</span><span class=\"pun\">,</span><span class=\"pln\"> </span><span class=\"str\">\"Marry&nbsp;Simpons\"</span><span class=\"pun\">:</span><span class=\"pln\">&nbsp;</span><span class=\"str\">\"+423998200919\"</span><span class=\"pun\">}</span></li><li class=\"L1\"><span class=\"pln\">volcano_elevations </span><span class=\"pun\">=</span><span class=\"pln\"> </span><span class=\"pun\">{</span><span class=\"str\">\"Glacier Peak\"</span><span class=\"pun\">:</span><span class=\"pln\">&nbsp;</span><span class=\"lit\">3213.9</span><span class=\"pun\">,</span><span class=\"pln\"> </span><span class=\"str\">\"Rainer\"</span><span class=\"pun\">:</span><span class=\"pln\">&nbsp;</span><span class=\"lit\">4392.1</span><span class=\"pun\">}</span></li></ol></pre></div></div><ul><li><p><strong>Keys</strong> of a dictionary can be extracted with:</p></li></ul><div class=\"ud-component--base-components--code-block\"><div><pre class=\"prettyprint linenums prettyprinted\" role=\"presentation\" style=\"\"><ol class=\"linenums\"><li class=\"L0\"><span class=\"pln\">phone_numbers</span><span class=\"pun\">.</span><span class=\"pln\">keys</span><span class=\"pun\">()</span></li></ol></pre></div></div><ul><li><p><strong>Values</strong> of a dictionary can be extracted with:</p></li></ul><div class=\"ud-component--base-components--code-block\"><div><pre class=\"prettyprint linenums prettyprinted\" role=\"presentation\" style=\"\"><ol class=\"linenums\"><li class=\"L0\"><span class=\"pln\">phone_numbers</span><span class=\"pun\">.</span><span class=\"pln\">values</span><span class=\"pun\">()</span></li></ol></pre></div></div><ul><li><p><strong>Tuples</strong> represent arrays of values that are not to be changed during the course of the program:</p></li></ul><div class=\"ud-component--base-components--code-block\"><div><pre class=\"prettyprint linenums prettyprinted\" role=\"presentation\" style=\"\"><ol class=\"linenums\"><li class=\"L0\"><span class=\"pln\">vowels </span><span class=\"pun\">=</span><span class=\"pln\"> </span><span class=\"pun\">(</span><span class=\"str\">'a'</span><span class=\"pun\">,</span><span class=\"pln\"> </span><span class=\"str\">'e'</span><span class=\"pun\">,</span><span class=\"pln\"> </span><span class=\"str\">'i'</span><span class=\"pun\">,</span><span class=\"pln\"> </span><span class=\"str\">'o'</span><span class=\"pun\">,</span><span class=\"pln\"> </span><span class=\"str\">'u'</span><span class=\"pun\">)</span></li><li class=\"L1\"><span class=\"pln\">one_digits </span><span class=\"pun\">=</span><span class=\"pln\"> </span><span class=\"pun\">(</span><span class=\"lit\">0</span><span class=\"pun\">,</span><span class=\"pln\"> </span><span class=\"lit\">1</span><span class=\"pun\">,</span><span class=\"pln\"> </span><span class=\"lit\">2</span><span class=\"pun\">,</span><span class=\"pln\"> </span><span class=\"lit\">3</span><span class=\"pun\">,</span><span class=\"pln\"> </span><span class=\"lit\">4</span><span class=\"pun\">,</span><span class=\"pln\"> </span><span class=\"lit\">5</span><span class=\"pun\">,</span><span class=\"pln\"> </span><span class=\"lit\">6</span><span class=\"pun\">,</span><span class=\"pln\"> </span><span class=\"lit\">7</span><span class=\"pun\">,</span><span class=\"pln\"> </span><span class=\"lit\">8</span><span class=\"pun\">,</span><span class=\"pln\"> </span><span class=\"lit\">9</span><span class=\"pun\">)</span></li></ol></pre></div></div><ul><li><p>To find out what <strong>attributes</strong> a type has:</p></li></ul><div class=\"ud-component--base-components--code-block\"><div><pre class=\"prettyprint linenums prettyprinted\" role=\"presentation\" style=\"\"><ol class=\"linenums\"><li class=\"L0\"><span class=\"pln\">dir</span><span class=\"pun\">(</span><span class=\"pln\">str</span><span class=\"pun\">)</span></li><li class=\"L1\"><span class=\"pln\">dir</span><span class=\"pun\">(</span><span class=\"pln\">list</span><span class=\"pun\">)</span></li><li class=\"L2\"><span class=\"pln\">dir</span><span class=\"pun\">(</span><span class=\"pln\">dict</span><span class=\"pun\">)</span></li></ol></pre></div></div><ul><li><p>To find out what Python <strong>builtin functions</strong> there are:</p></li></ul><div class=\"ud-component--base-components--code-block\"><div><pre class=\"prettyprint linenums prettyprinted\" role=\"presentation\" style=\"\"><ol class=\"linenums\"><li class=\"L0\"><span class=\"pln\">dir</span><span class=\"pun\">(</span><span class=\"pln\">__builtins__</span><span class=\"pun\">)</span></li></ol></pre></div></div><ul><li><p><strong>Documentation</strong> for a Python command can be found using the <code>help()</code> function.&nbsp;Here are some examples:</p></li></ul><div class=\"ud-component--base-components--code-block\"><div><pre class=\"prettyprint linenums prettyprinted\" role=\"presentation\" style=\"\"><ol class=\"linenums\"><li class=\"L0\"><span class=\"pln\">help</span><span class=\"pun\">(</span><span class=\"pln\">str</span><span class=\"pun\">)</span></li><li class=\"L1\"><span class=\"pln\">help</span><span class=\"pun\">(</span><span class=\"pln\">str</span><span class=\"pun\">.</span><span class=\"pln\">replace</span><span class=\"pun\">)</span></li><li class=\"L2\"><span class=\"pln\">help</span><span class=\"pun\">(</span><span class=\"pln\">dict</span><span class=\"pun\">.</span><span class=\"pln\">values</span><span class=\"pun\">)</span></li></ol></pre></div></div></div>"
      ],
      "metadata": {
        "id": "nAx_DB6BfEiY"
      }
    }
  ]
}