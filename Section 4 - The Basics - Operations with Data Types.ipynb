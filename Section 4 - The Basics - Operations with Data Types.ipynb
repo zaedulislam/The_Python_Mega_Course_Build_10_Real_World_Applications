{
  "nbformat": 4,
  "nbformat_minor": 0,
  "metadata": {
    "colab": {
      "name": "Section 4 - The Basics - Operations with Data Types.ipynb",
      "provenance": [],
      "authorship_tag": "ABX9TyOAzG6UJlA6Vmnytu8+3AWm",
      "include_colab_link": true
    },
    "kernelspec": {
      "name": "python3",
      "display_name": "Python 3"
    },
    "language_info": {
      "name": "python"
    }
  },
  "cells": [
    {
      "cell_type": "markdown",
      "metadata": {
        "id": "view-in-github",
        "colab_type": "text"
      },
      "source": [
        "<a href=\"https://colab.research.google.com/github/zaedulislam/The_Python_Mega_Course_Build_10_Real_World_Applications/blob/main/Section%20-%204%20-%20The%20Basics%20-%20Operations%20with%20Data%20Types.ipynb\" target=\"_parent\"><img src=\"https://colab.research.google.com/assets/colab-badge.svg\" alt=\"Open In Colab\"/></a>"
      ]
    },
    {
      "cell_type": "markdown",
      "source": [
        "## 30. Accessing List Items"
      ],
      "metadata": {
        "id": "pyCaGfUvM1tA"
      }
    },
    {
      "cell_type": "code",
      "execution_count": 8,
      "metadata": {
        "colab": {
          "base_uri": "https://localhost:8080/"
        },
        "id": "k7EZO0eNIvNf",
        "outputId": "317a7dff-67ce-41fa-9017-ef722ee87d26"
      },
      "outputs": [
        {
          "output_type": "execute_result",
          "data": {
            "text/plain": [
              "8.8"
            ]
          },
          "metadata": {},
          "execution_count": 8
        }
      ],
      "source": [
        "mondayTemperatures = [9.1, 8.8, 7.5, 6.6, 9.9]\n",
        "mondayTemperatures.__getitem__(1)"
      ]
    },
    {
      "cell_type": "code",
      "source": [
        "# Python on the background actually is calling __getitem__ method and is passing this item, this value as an input for that methods. \n",
        "# So this is actually what's going on on the ground but Python lets us do it in a better fashion.\n",
        "mondayTemperatures[1]"
      ],
      "metadata": {
        "colab": {
          "base_uri": "https://localhost:8080/"
        },
        "id": "Zj6b4lblNJoF",
        "outputId": "5f740ad5-d2ec-4d22-8871-a85a3ab80488"
      },
      "execution_count": 5,
      "outputs": [
        {
          "output_type": "execute_result",
          "data": {
            "text/plain": [
              "8.8"
            ]
          },
          "metadata": {},
          "execution_count": 5
        }
      ]
    },
    {
      "cell_type": "markdown",
      "source": [
        "## 31. Accessing List Slices"
      ],
      "metadata": {
        "id": "jFKFTV6BNUD4"
      }
    },
    {
      "cell_type": "code",
      "source": [
        "mondayTemperatures[1:4]"
      ],
      "metadata": {
        "colab": {
          "base_uri": "https://localhost:8080/"
        },
        "id": "XeRcLplHNiNb",
        "outputId": "159ca590-3fbb-4fdd-9b55-61223115831b"
      },
      "execution_count": 11,
      "outputs": [
        {
          "output_type": "execute_result",
          "data": {
            "text/plain": [
              "[8.8, 7.5, 6.6]"
            ]
          },
          "metadata": {},
          "execution_count": 11
        }
      ]
    },
    {
      "cell_type": "code",
      "source": [
        "mondayTemperatures[:4]"
      ],
      "metadata": {
        "colab": {
          "base_uri": "https://localhost:8080/"
        },
        "id": "59UU_BrjOqWb",
        "outputId": "f46e6ee0-90e7-4b39-82f2-cad409318e1d"
      },
      "execution_count": 12,
      "outputs": [
        {
          "output_type": "execute_result",
          "data": {
            "text/plain": [
              "[9.1, 8.8, 7.5, 6.6]"
            ]
          },
          "metadata": {},
          "execution_count": 12
        }
      ]
    },
    {
      "cell_type": "code",
      "source": [
        "mondayTemperatures[4:]"
      ],
      "metadata": {
        "colab": {
          "base_uri": "https://localhost:8080/"
        },
        "id": "JZlB-PTIPc9C",
        "outputId": "998801d1-cc2d-474d-81f8-c8393f8ab18f"
      },
      "execution_count": 13,
      "outputs": [
        {
          "output_type": "execute_result",
          "data": {
            "text/plain": [
              "[9.9]"
            ]
          },
          "metadata": {},
          "execution_count": 13
        }
      ]
    }
  ]
}
