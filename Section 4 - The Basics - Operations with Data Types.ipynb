{
  "nbformat": 4,
  "nbformat_minor": 0,
  "metadata": {
    "colab": {
      "name": "Section 4 - The Basics - Operations with Data Types.ipynb",
      "provenance": [],
      "authorship_tag": "ABX9TyNZ7Z3QYnwpQGHpJBcSFeGg",
      "include_colab_link": true
    },
    "kernelspec": {
      "name": "python3",
      "display_name": "Python 3"
    },
    "language_info": {
      "name": "python"
    }
  },
  "cells": [
    {
      "cell_type": "markdown",
      "metadata": {
        "id": "view-in-github",
        "colab_type": "text"
      },
      "source": [
        "<a href=\"https://colab.research.google.com/github/zaedulislam/The_Python_Mega_Course_Build_10_Real_World_Applications/blob/main/Section%204%20-%20The%20Basics%20-%20Operations%20with%20Data%20Types.ipynb\" target=\"_parent\"><img src=\"https://colab.research.google.com/assets/colab-badge.svg\" alt=\"Open In Colab\"/></a>"
      ]
    },
    {
      "cell_type": "markdown",
      "source": [
        "## 30. Accessing List Items"
      ],
      "metadata": {
        "id": "pyCaGfUvM1tA"
      }
    },
    {
      "cell_type": "code",
      "execution_count": 2,
      "metadata": {
        "colab": {
          "base_uri": "https://localhost:8080/"
        },
        "id": "k7EZO0eNIvNf",
        "outputId": "03a37d76-6432-4e37-f954-a6c5676f81a2"
      },
      "outputs": [
        {
          "output_type": "execute_result",
          "data": {
            "text/plain": [
              "8.8"
            ]
          },
          "metadata": {},
          "execution_count": 2
        }
      ],
      "source": [
        "mondayTemperatures = [9.1, 8.8, 7.5, 6.6, 9.9]\n",
        "mondayTemperatures.__getitem__(1)"
      ]
    },
    {
      "cell_type": "markdown",
      "source": [
        "Python on the background actually is calling __getitem__ method and is passing this item, this value as an input for that methods. So this is actually what's going on on the ground but Python lets us do it in a better fashion."
      ],
      "metadata": {
        "id": "2VcsIexR4gaB"
      }
    },
    {
      "cell_type": "code",
      "source": [
        "mondayTemperatures[1]"
      ],
      "metadata": {
        "colab": {
          "base_uri": "https://localhost:8080/"
        },
        "id": "Zj6b4lblNJoF",
        "outputId": "19673655-5e68-435f-96fb-17d218d00fed"
      },
      "execution_count": 3,
      "outputs": [
        {
          "output_type": "execute_result",
          "data": {
            "text/plain": [
              "8.8"
            ]
          },
          "metadata": {},
          "execution_count": 3
        }
      ]
    },
    {
      "cell_type": "markdown",
      "source": [
        "## 31. Accessing List Slices"
      ],
      "metadata": {
        "id": "jFKFTV6BNUD4"
      }
    },
    {
      "cell_type": "code",
      "source": [
        "mondayTemperatures[1:4]"
      ],
      "metadata": {
        "colab": {
          "base_uri": "https://localhost:8080/"
        },
        "id": "XeRcLplHNiNb",
        "outputId": "39d87049-2b82-475e-e1bd-e1624a1094cd"
      },
      "execution_count": 4,
      "outputs": [
        {
          "output_type": "execute_result",
          "data": {
            "text/plain": [
              "[8.8, 7.5, 6.6]"
            ]
          },
          "metadata": {},
          "execution_count": 4
        }
      ]
    },
    {
      "cell_type": "code",
      "source": [
        "mondayTemperatures[:4]"
      ],
      "metadata": {
        "colab": {
          "base_uri": "https://localhost:8080/"
        },
        "id": "59UU_BrjOqWb",
        "outputId": "6effa93b-50e8-4f90-82b8-1a7ac07dd51e"
      },
      "execution_count": 5,
      "outputs": [
        {
          "output_type": "execute_result",
          "data": {
            "text/plain": [
              "[9.1, 8.8, 7.5, 6.6]"
            ]
          },
          "metadata": {},
          "execution_count": 5
        }
      ]
    },
    {
      "cell_type": "code",
      "source": [
        "mondayTemperatures[4:]"
      ],
      "metadata": {
        "colab": {
          "base_uri": "https://localhost:8080/"
        },
        "id": "JZlB-PTIPc9C",
        "outputId": "2af397b7-67c1-47f3-9d2c-493dd7878021"
      },
      "execution_count": 6,
      "outputs": [
        {
          "output_type": "execute_result",
          "data": {
            "text/plain": [
              "[9.9]"
            ]
          },
          "metadata": {},
          "execution_count": 6
        }
      ]
    },
    {
      "cell_type": "markdown",
      "source": [
        "## 32. Accessing Items and Slices with Negative Indexes"
      ],
      "metadata": {
        "id": "4NA0q1qKKrks"
      }
    },
    {
      "cell_type": "code",
      "source": [
        "mondayTemperatures[-1]"
      ],
      "metadata": {
        "colab": {
          "base_uri": "https://localhost:8080/"
        },
        "id": "_z7wfQ1EKshH",
        "outputId": "f397d1ae-213c-4327-de64-321e58d6cd5e"
      },
      "execution_count": 10,
      "outputs": [
        {
          "output_type": "execute_result",
          "data": {
            "text/plain": [
              "9.9"
            ]
          },
          "metadata": {},
          "execution_count": 10
        }
      ]
    },
    {
      "cell_type": "code",
      "source": [
        "mondayTemperatures[-5]"
      ],
      "metadata": {
        "colab": {
          "base_uri": "https://localhost:8080/"
        },
        "id": "HdNW9jXyK2wj",
        "outputId": "311b2924-e080-4081-eac3-2ef4b09d6ec6"
      },
      "execution_count": 9,
      "outputs": [
        {
          "output_type": "execute_result",
          "data": {
            "text/plain": [
              "9.1"
            ]
          },
          "metadata": {},
          "execution_count": 9
        }
      ]
    },
    {
      "cell_type": "code",
      "source": [
        "mondayTemperatures[-2:]"
      ],
      "metadata": {
        "colab": {
          "base_uri": "https://localhost:8080/"
        },
        "id": "W0FQZJ5wK698",
        "outputId": "5a55e682-31f2-438a-cf88-34ea82ecfcd6"
      },
      "execution_count": 11,
      "outputs": [
        {
          "output_type": "execute_result",
          "data": {
            "text/plain": [
              "[6.6, 9.9]"
            ]
          },
          "metadata": {},
          "execution_count": 11
        }
      ]
    },
    {
      "cell_type": "code",
      "source": [
        "mondayTemperatures[-2:-1]"
      ],
      "metadata": {
        "colab": {
          "base_uri": "https://localhost:8080/"
        },
        "id": "-RStoRbALFQl",
        "outputId": "aee4bd74-9932-4c1d-a1d5-cff3ef7d0160"
      },
      "execution_count": 14,
      "outputs": [
        {
          "output_type": "execute_result",
          "data": {
            "text/plain": [
              "[6.6]"
            ]
          },
          "metadata": {},
          "execution_count": 14
        }
      ]
    },
    {
      "cell_type": "code",
      "source": [
        "mondayTemperatures[-5:-1]"
      ],
      "metadata": {
        "colab": {
          "base_uri": "https://localhost:8080/"
        },
        "id": "hDTUHP5ELRc-",
        "outputId": "e9b07e16-2418-4a11-967a-5180ac83e241"
      },
      "execution_count": 15,
      "outputs": [
        {
          "output_type": "execute_result",
          "data": {
            "text/plain": [
              "[9.1, 8.8, 7.5, 6.6]"
            ]
          },
          "metadata": {},
          "execution_count": 15
        }
      ]
    },
    {
      "cell_type": "markdown",
      "source": [
        "# Cheatsheet (Operations with Data Types)"
      ],
      "metadata": {
        "id": "m4GiWiQe6fEN"
      }
    },
    {
      "cell_type": "markdown",
      "source": [
        "<div data-purpose=\"safely-set-inner-html:rich-text-viewer:html\" class=\"article-asset--content--1dAQ9 rich-text-viewer--rich-text-viewer--19N-I\"><p>In this section:</p><ul><li><p>Lists, strings, and tuples have a <strong>positive index</strong> system:</p></li></ul><div class=\"ud-component--base-components--code-block\"><div><pre class=\"prettyprint linenums prettyprinted\" role=\"presentation\" style=\"\"><ol class=\"linenums\"><li class=\"L0\"><span class=\"pun\">[</span><span class=\"str\">\"Mon\"</span><span class=\"pun\">,</span><span class=\"pln\"> </span><span class=\"str\">\"Tue\"</span><span class=\"pun\">,</span><span class=\"pln\"> </span><span class=\"str\">\"Wed\"</span><span class=\"pun\">,</span><span class=\"pln\"> </span><span class=\"str\">\"Thu\"</span><span class=\"pun\">,</span><span class=\"pln\"> </span><span class=\"str\">\"Fri\"</span><span class=\"pun\">,</span><span class=\"pln\"> </span><span class=\"str\">\"Sat\"</span><span class=\"pun\">,</span><span class=\"pln\"> </span><span class=\"str\">\"Sun\"</span><span class=\"pun\">]</span></li><li class=\"L1\"><span class=\"pln\">   </span><span class=\"lit\">0</span><span class=\"pln\">      </span><span class=\"lit\">1</span><span class=\"pln\">      </span><span class=\"lit\">2</span><span class=\"pln\">      </span><span class=\"lit\">3</span><span class=\"pln\">      </span><span class=\"lit\">4</span><span class=\"pln\">      </span><span class=\"lit\">5</span><span class=\"pln\">      </span><span class=\"lit\">6</span></li></ol></pre></div></div><ul><li><p>And a <strong>negative index</strong> system:</p></li></ul><div class=\"ud-component--base-components--code-block\"><div><pre class=\"prettyprint linenums prettyprinted\" role=\"presentation\" style=\"\"><ol class=\"linenums\"><li class=\"L0\"><span class=\"pun\">[</span><span class=\"str\">\"Mon\"</span><span class=\"pun\">,</span><span class=\"pln\"> </span><span class=\"str\">\"Tue\"</span><span class=\"pun\">,</span><span class=\"pln\"> </span><span class=\"str\">\"Wed\"</span><span class=\"pun\">,</span><span class=\"pln\"> </span><span class=\"str\">\"Thu\"</span><span class=\"pun\">,</span><span class=\"pln\"> </span><span class=\"str\">\"Fri\"</span><span class=\"pun\">,</span><span class=\"pln\"> </span><span class=\"str\">\"Sat\"</span><span class=\"pun\">,</span><span class=\"pln\"> </span><span class=\"str\">\"Sun\"</span><span class=\"pun\">]</span></li><li class=\"L1\"><span class=\"pln\">  </span><span class=\"pun\">-</span><span class=\"lit\">7</span><span class=\"pln\">     </span><span class=\"pun\">-</span><span class=\"lit\">6</span><span class=\"pln\">     </span><span class=\"pun\">-</span><span class=\"lit\">5</span><span class=\"pln\">     </span><span class=\"pun\">-</span><span class=\"lit\">4</span><span class=\"pln\">     </span><span class=\"pun\">-</span><span class=\"lit\">3</span><span class=\"pln\">     </span><span class=\"pun\">-</span><span class=\"lit\">2</span><span class=\"pln\">     </span><span class=\"pun\">-</span><span class=\"lit\">1</span></li></ol></pre></div></div><ul><li><p>In a list, the <strong>2nd</strong>, <strong>3rd</strong>, and <strong>4th</strong> items can be accessed with:</p></li></ul><div class=\"ud-component--base-components--code-block\"><div><pre class=\"prettyprint linenums prettyprinted\" role=\"presentation\" style=\"\"><ol class=\"linenums\"><li class=\"L0\"><span class=\"pln\">days </span><span class=\"pun\">=</span><span class=\"pln\"> </span><span class=\"pun\">[</span><span class=\"str\">\"Mon\"</span><span class=\"pun\">,</span><span class=\"pln\"> </span><span class=\"str\">\"Tue\"</span><span class=\"pun\">,</span><span class=\"pln\"> </span><span class=\"str\">\"Wed\"</span><span class=\"pun\">,</span><span class=\"pln\"> </span><span class=\"str\">\"Thu\"</span><span class=\"pun\">,</span><span class=\"pln\"> </span><span class=\"str\">\"Fri\"</span><span class=\"pun\">,</span><span class=\"pln\"> </span><span class=\"str\">\"Sat\"</span><span class=\"pun\">,</span><span class=\"pln\"> </span><span class=\"str\">\"Sun\"</span><span class=\"pun\">]</span></li><li class=\"L1\"><span class=\"pln\">days</span><span class=\"pun\">[</span><span class=\"lit\">1</span><span class=\"pun\">:</span><span class=\"lit\">4</span><span class=\"pun\">]</span></li><li class=\"L2\"><span class=\"typ\">Output</span><span class=\"pun\">:</span><span class=\"pln\"> </span><span class=\"pun\">[</span><span class=\"str\">'Tue'</span><span class=\"pun\">,</span><span class=\"pln\"> </span><span class=\"str\">'Wed'</span><span class=\"pun\">,</span><span class=\"pln\"> </span><span class=\"str\">'Thu'</span><span class=\"pun\">]</span></li></ol></pre></div></div><ul><li><p><strong>First three items of a list</strong>:</p></li></ul><div class=\"ud-component--base-components--code-block\"><div><pre class=\"prettyprint linenums prettyprinted\" role=\"presentation\" style=\"\"><ol class=\"linenums\"><li class=\"L0\"><span class=\"pln\">days </span><span class=\"pun\">=</span><span class=\"pln\"> </span><span class=\"pun\">[</span><span class=\"str\">\"Mon\"</span><span class=\"pun\">,</span><span class=\"pln\"> </span><span class=\"str\">\"Tue\"</span><span class=\"pun\">,</span><span class=\"pln\"> </span><span class=\"str\">\"Wed\"</span><span class=\"pun\">,</span><span class=\"pln\"> </span><span class=\"str\">\"Thu\"</span><span class=\"pun\">,</span><span class=\"pln\"> </span><span class=\"str\">\"Fri\"</span><span class=\"pun\">,</span><span class=\"pln\"> </span><span class=\"str\">\"Sat\"</span><span class=\"pun\">,</span><span class=\"pln\"> </span><span class=\"str\">\"Sun\"</span><span class=\"pun\">]</span></li><li class=\"L1\"><span class=\"pln\">days</span><span class=\"pun\">[:</span><span class=\"lit\">3</span><span class=\"pun\">]</span></li><li class=\"L2\"><span class=\"typ\">Output</span><span class=\"pun\">:[</span><span class=\"str\">'Mon'</span><span class=\"pun\">,</span><span class=\"pln\"> </span><span class=\"str\">'Tue'</span><span class=\"pun\">,</span><span class=\"pln\"> </span><span class=\"str\">'Wed'</span><span class=\"pun\">]</span><span class=\"pln\">&nbsp;</span></li></ol></pre></div></div><ul><li><p><strong>Last three items of a list</strong>:</p></li></ul><div class=\"ud-component--base-components--code-block\"><div><pre class=\"prettyprint linenums prettyprinted\" role=\"presentation\" style=\"\"><ol class=\"linenums\"><li class=\"L0\"><span class=\"pln\">days </span><span class=\"pun\">=</span><span class=\"pln\"> </span><span class=\"pun\">[</span><span class=\"str\">\"Mon\"</span><span class=\"pun\">,</span><span class=\"pln\"> </span><span class=\"str\">\"Tue\"</span><span class=\"pun\">,</span><span class=\"pln\"> </span><span class=\"str\">\"Wed\"</span><span class=\"pun\">,</span><span class=\"pln\"> </span><span class=\"str\">\"Thu\"</span><span class=\"pun\">,</span><span class=\"pln\"> </span><span class=\"str\">\"Fri\"</span><span class=\"pun\">,</span><span class=\"pln\"> </span><span class=\"str\">\"Sat\"</span><span class=\"pun\">,</span><span class=\"pln\"> </span><span class=\"str\">\"Sun\"</span><span class=\"pun\">]</span></li><li class=\"L1\"><span class=\"pln\">days</span><span class=\"pun\">[-</span><span class=\"lit\">3</span><span class=\"pun\">:]</span></li><li class=\"L2\"><span class=\"typ\">Output</span><span class=\"pun\">:</span><span class=\"pln\"> </span><span class=\"pun\">[</span><span class=\"str\">'Fri'</span><span class=\"pun\">,</span><span class=\"pln\"> </span><span class=\"str\">'Sat'</span><span class=\"pun\">,</span><span class=\"pln\"> </span><span class=\"str\">'Sun'</span><span class=\"pun\">]</span></li></ol></pre></div></div><ul><li><p><strong>Everything but the last</strong>:</p></li></ul><div class=\"ud-component--base-components--code-block\"><div><pre class=\"prettyprint linenums prettyprinted\" role=\"presentation\" style=\"\"><ol class=\"linenums\"><li class=\"L0\"><span class=\"pln\">days </span><span class=\"pun\">=</span><span class=\"pln\"> </span><span class=\"pun\">[</span><span class=\"str\">\"Mon\"</span><span class=\"pun\">,</span><span class=\"pln\"> </span><span class=\"str\">\"Tue\"</span><span class=\"pun\">,</span><span class=\"pln\"> </span><span class=\"str\">\"Wed\"</span><span class=\"pun\">,</span><span class=\"pln\"> </span><span class=\"str\">\"Thu\"</span><span class=\"pun\">,</span><span class=\"pln\"> </span><span class=\"str\">\"Fri\"</span><span class=\"pun\">,</span><span class=\"pln\"> </span><span class=\"str\">\"Sat\"</span><span class=\"pun\">,</span><span class=\"pln\"> </span><span class=\"str\">\"Sun\"</span><span class=\"pun\">]</span></li><li class=\"L1\"><span class=\"pln\">days</span><span class=\"pun\">[:-</span><span class=\"lit\">1</span><span class=\"pun\">]</span><span class=\"pln\">&nbsp;</span></li><li class=\"L2\"><span class=\"typ\">Output</span><span class=\"pun\">:</span><span class=\"pln\">&nbsp;</span><span class=\"pun\">[</span><span class=\"str\">'Mon'</span><span class=\"pun\">,</span><span class=\"pln\"> </span><span class=\"str\">'Tue'</span><span class=\"pun\">,</span><span class=\"pln\"> </span><span class=\"str\">'Wed'</span><span class=\"pun\">,</span><span class=\"pln\"> </span><span class=\"str\">'Thu'</span><span class=\"pun\">,</span><span class=\"pln\"> </span><span class=\"str\">'Fri'</span><span class=\"pun\">,</span><span class=\"pln\"> </span><span class=\"str\">'Sat'</span><span class=\"pun\">]</span><span class=\"pln\">&nbsp;</span></li></ol></pre></div></div><ul><li><p><strong>Everything but the last two</strong>:</p></li></ul><div class=\"ud-component--base-components--code-block\"><div><pre class=\"prettyprint linenums prettyprinted\" role=\"presentation\" style=\"\"><ol class=\"linenums\"><li class=\"L0\"><span class=\"pln\">days </span><span class=\"pun\">=</span><span class=\"pln\"> </span><span class=\"pun\">[</span><span class=\"str\">\"Mon\"</span><span class=\"pun\">,</span><span class=\"pln\"> </span><span class=\"str\">\"Tue\"</span><span class=\"pun\">,</span><span class=\"pln\"> </span><span class=\"str\">\"Wed\"</span><span class=\"pun\">,</span><span class=\"pln\"> </span><span class=\"str\">\"Thu\"</span><span class=\"pun\">,</span><span class=\"pln\"> </span><span class=\"str\">\"Fri\"</span><span class=\"pun\">,</span><span class=\"pln\"> </span><span class=\"str\">\"Sat\"</span><span class=\"pun\">,</span><span class=\"pln\"> </span><span class=\"str\">\"Sun\"</span><span class=\"pun\">]</span></li><li class=\"L1\"><span class=\"pln\">days</span><span class=\"pun\">[:-</span><span class=\"lit\">2</span><span class=\"pun\">]</span><span class=\"pln\">&nbsp;</span></li><li class=\"L2\"><span class=\"typ\">Output</span><span class=\"pun\">:</span><span class=\"pln\">&nbsp;</span><span class=\"pun\">[</span><span class=\"str\">'Mon'</span><span class=\"pun\">,</span><span class=\"pln\"> </span><span class=\"str\">'Tue'</span><span class=\"pun\">,</span><span class=\"pln\"> </span><span class=\"str\">'Wed'</span><span class=\"pun\">,</span><span class=\"pln\"> </span><span class=\"str\">'Thu'</span><span class=\"pun\">,</span><span class=\"pln\"> </span><span class=\"str\">'Fri'</span><span class=\"pun\">]</span><span class=\"pln\">&nbsp;</span></li></ol></pre></div></div><ul><li><p>A single in a <strong>dictionary</strong> can be accessed using its key:</p></li></ul><div class=\"ud-component--base-components--code-block\"><div><pre class=\"prettyprint linenums prettyprinted\" role=\"presentation\" style=\"\"><ol class=\"linenums\"><li class=\"L0\"><span class=\"pln\">phone_numbers </span><span class=\"pun\">=</span><span class=\"pln\"> </span><span class=\"pun\">{</span><span class=\"str\">\"John Smith\"</span><span class=\"pun\">:</span><span class=\"str\">\"+37682929928\"</span><span class=\"pun\">,</span><span class=\"str\">\"Marry Simpsons\"</span><span class=\"pun\">:</span><span class=\"str\">\"+423998200919\"</span><span class=\"pun\">}</span></li><li class=\"L1\"><span class=\"pln\">phone_numbers</span><span class=\"pun\">[</span><span class=\"str\">\"Marry Simpsons\"</span><span class=\"pun\">]</span></li><li class=\"L2\"><span class=\"typ\">Output</span><span class=\"pun\">:</span><span class=\"pln\">&nbsp;</span><span class=\"str\">'+423998200919'</span></li></ol></pre></div></div></div>"
      ],
      "metadata": {
        "id": "h0UXrIaj6gnF"
      }
    }
  ]
}