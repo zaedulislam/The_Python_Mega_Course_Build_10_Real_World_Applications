{
  "nbformat": 4,
  "nbformat_minor": 0,
  "metadata": {
    "colab": {
      "name": "Section 4 - The Basics - Operations with Data Types.ipynb",
      "provenance": [],
      "authorship_tag": "ABX9TyPzpaWyxLOyF2vdZ+N8T0HH",
      "include_colab_link": true
    },
    "kernelspec": {
      "name": "python3",
      "display_name": "Python 3"
    },
    "language_info": {
      "name": "python"
    }
  },
  "cells": [
    {
      "cell_type": "markdown",
      "metadata": {
        "id": "view-in-github",
        "colab_type": "text"
      },
      "source": [
        "<a href=\"https://colab.research.google.com/github/zaedulislam/The_Python_Mega_Course_Build_10_Real_World_Applications/blob/main/Section%204%20-%20The%20Basics%20-%20Operations%20with%20Data%20Types.ipynb\" target=\"_parent\"><img src=\"https://colab.research.google.com/assets/colab-badge.svg\" alt=\"Open In Colab\"/></a>"
      ]
    },
    {
      "cell_type": "markdown",
      "source": [
        "## 30. Accessing List Items"
      ],
      "metadata": {
        "id": "pyCaGfUvM1tA"
      }
    },
    {
      "cell_type": "code",
      "execution_count": 2,
      "metadata": {
        "colab": {
          "base_uri": "https://localhost:8080/"
        },
        "id": "k7EZO0eNIvNf",
        "outputId": "03a37d76-6432-4e37-f954-a6c5676f81a2"
      },
      "outputs": [
        {
          "output_type": "execute_result",
          "data": {
            "text/plain": [
              "8.8"
            ]
          },
          "metadata": {},
          "execution_count": 2
        }
      ],
      "source": [
        "mondayTemperatures = [9.1, 8.8, 7.5, 6.6, 9.9]\n",
        "mondayTemperatures.__getitem__(1)"
      ]
    },
    {
      "cell_type": "markdown",
      "source": [
        "Python on the background actually is calling __getitem__ method and is passing this item, this value as an input for that methods. So this is actually what's going on on the ground but Python lets us do it in a better fashion."
      ],
      "metadata": {
        "id": "2VcsIexR4gaB"
      }
    },
    {
      "cell_type": "code",
      "source": [
        "mondayTemperatures[1]"
      ],
      "metadata": {
        "colab": {
          "base_uri": "https://localhost:8080/"
        },
        "id": "Zj6b4lblNJoF",
        "outputId": "19673655-5e68-435f-96fb-17d218d00fed"
      },
      "execution_count": 3,
      "outputs": [
        {
          "output_type": "execute_result",
          "data": {
            "text/plain": [
              "8.8"
            ]
          },
          "metadata": {},
          "execution_count": 3
        }
      ]
    },
    {
      "cell_type": "markdown",
      "source": [
        "## 31. Accessing List Slices"
      ],
      "metadata": {
        "id": "jFKFTV6BNUD4"
      }
    },
    {
      "cell_type": "code",
      "source": [
        "mondayTemperatures[1:4]"
      ],
      "metadata": {
        "colab": {
          "base_uri": "https://localhost:8080/"
        },
        "id": "XeRcLplHNiNb",
        "outputId": "39d87049-2b82-475e-e1bd-e1624a1094cd"
      },
      "execution_count": 4,
      "outputs": [
        {
          "output_type": "execute_result",
          "data": {
            "text/plain": [
              "[8.8, 7.5, 6.6]"
            ]
          },
          "metadata": {},
          "execution_count": 4
        }
      ]
    },
    {
      "cell_type": "code",
      "source": [
        "mondayTemperatures[:4]"
      ],
      "metadata": {
        "colab": {
          "base_uri": "https://localhost:8080/"
        },
        "id": "59UU_BrjOqWb",
        "outputId": "6effa93b-50e8-4f90-82b8-1a7ac07dd51e"
      },
      "execution_count": 5,
      "outputs": [
        {
          "output_type": "execute_result",
          "data": {
            "text/plain": [
              "[9.1, 8.8, 7.5, 6.6]"
            ]
          },
          "metadata": {},
          "execution_count": 5
        }
      ]
    },
    {
      "cell_type": "code",
      "source": [
        "mondayTemperatures[4:]"
      ],
      "metadata": {
        "colab": {
          "base_uri": "https://localhost:8080/"
        },
        "id": "JZlB-PTIPc9C",
        "outputId": "2af397b7-67c1-47f3-9d2c-493dd7878021"
      },
      "execution_count": 6,
      "outputs": [
        {
          "output_type": "execute_result",
          "data": {
            "text/plain": [
              "[9.9]"
            ]
          },
          "metadata": {},
          "execution_count": 6
        }
      ]
    },
    {
      "cell_type": "markdown",
      "source": [
        "## 32. Accessing Items and Slices with Negative Indexes"
      ],
      "metadata": {
        "id": "4NA0q1qKKrks"
      }
    },
    {
      "cell_type": "code",
      "source": [
        "mondayTemperatures[-1]"
      ],
      "metadata": {
        "colab": {
          "base_uri": "https://localhost:8080/"
        },
        "id": "_z7wfQ1EKshH",
        "outputId": "f397d1ae-213c-4327-de64-321e58d6cd5e"
      },
      "execution_count": 10,
      "outputs": [
        {
          "output_type": "execute_result",
          "data": {
            "text/plain": [
              "9.9"
            ]
          },
          "metadata": {},
          "execution_count": 10
        }
      ]
    },
    {
      "cell_type": "code",
      "source": [
        "mondayTemperatures[-5]"
      ],
      "metadata": {
        "colab": {
          "base_uri": "https://localhost:8080/"
        },
        "id": "HdNW9jXyK2wj",
        "outputId": "311b2924-e080-4081-eac3-2ef4b09d6ec6"
      },
      "execution_count": 9,
      "outputs": [
        {
          "output_type": "execute_result",
          "data": {
            "text/plain": [
              "9.1"
            ]
          },
          "metadata": {},
          "execution_count": 9
        }
      ]
    },
    {
      "cell_type": "code",
      "source": [
        "mondayTemperatures[-2:]"
      ],
      "metadata": {
        "colab": {
          "base_uri": "https://localhost:8080/"
        },
        "id": "W0FQZJ5wK698",
        "outputId": "5a55e682-31f2-438a-cf88-34ea82ecfcd6"
      },
      "execution_count": 11,
      "outputs": [
        {
          "output_type": "execute_result",
          "data": {
            "text/plain": [
              "[6.6, 9.9]"
            ]
          },
          "metadata": {},
          "execution_count": 11
        }
      ]
    },
    {
      "cell_type": "code",
      "source": [
        "mondayTemperatures[-2:-1]"
      ],
      "metadata": {
        "colab": {
          "base_uri": "https://localhost:8080/"
        },
        "id": "-RStoRbALFQl",
        "outputId": "aee4bd74-9932-4c1d-a1d5-cff3ef7d0160"
      },
      "execution_count": 14,
      "outputs": [
        {
          "output_type": "execute_result",
          "data": {
            "text/plain": [
              "[6.6]"
            ]
          },
          "metadata": {},
          "execution_count": 14
        }
      ]
    },
    {
      "cell_type": "code",
      "source": [
        "mondayTemperatures[-5:-1]"
      ],
      "metadata": {
        "colab": {
          "base_uri": "https://localhost:8080/"
        },
        "id": "hDTUHP5ELRc-",
        "outputId": "e9b07e16-2418-4a11-967a-5180ac83e241"
      },
      "execution_count": 15,
      "outputs": [
        {
          "output_type": "execute_result",
          "data": {
            "text/plain": [
              "[9.1, 8.8, 7.5, 6.6]"
            ]
          },
          "metadata": {},
          "execution_count": 15
        }
      ]
    },
    {
      "cell_type": "markdown",
      "source": [
        "## 33. Accessing Characters and Slices in Strings"
      ],
      "metadata": {
        "id": "utFMMq_0Licx"
      }
    },
    {
      "cell_type": "code",
      "source": [
        "myString = \"Hello\"\n",
        "print(myString[0])\n",
        "print(myString[-1])\n",
        "print(myString[-5])\n",
        "\n",
        "thursdayTemperatures = [\"Sunny\", 9.1, 8.8, 7.5, 6.6, 9.9]\n",
        "print(thursdayTemperatures[0][-1])"
      ],
      "metadata": {
        "colab": {
          "base_uri": "https://localhost:8080/"
        },
        "id": "-UsNb_SwLjKr",
        "outputId": "9f2f7b59-8755-42bd-fa41-60f6d8ca785e"
      },
      "execution_count": 18,
      "outputs": [
        {
          "output_type": "stream",
          "name": "stdout",
          "text": [
            "H\n",
            "o\n",
            "H\n",
            "y\n"
          ]
        }
      ]
    },
    {
      "cell_type": "markdown",
      "source": [
        "![image.png](data:image/png;base64,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)"
      ],
      "metadata": {
        "id": "D55dcjh_Md2Z"
      }
    },
    {
      "cell_type": "markdown",
      "source": [
        "# Cheatsheet (Operations with Data Types)"
      ],
      "metadata": {
        "id": "m4GiWiQe6fEN"
      }
    },
    {
      "cell_type": "markdown",
      "source": [
        "<div data-purpose=\"safely-set-inner-html:rich-text-viewer:html\" class=\"article-asset--content--1dAQ9 rich-text-viewer--rich-text-viewer--19N-I\"><p>In this section:</p><ul><li><p>Lists, strings, and tuples have a <strong>positive index</strong> system:</p></li></ul><div class=\"ud-component--base-components--code-block\"><div><pre class=\"prettyprint linenums prettyprinted\" role=\"presentation\" style=\"\"><ol class=\"linenums\"><li class=\"L0\"><span class=\"pun\">[</span><span class=\"str\">\"Mon\"</span><span class=\"pun\">,</span><span class=\"pln\"> </span><span class=\"str\">\"Tue\"</span><span class=\"pun\">,</span><span class=\"pln\"> </span><span class=\"str\">\"Wed\"</span><span class=\"pun\">,</span><span class=\"pln\"> </span><span class=\"str\">\"Thu\"</span><span class=\"pun\">,</span><span class=\"pln\"> </span><span class=\"str\">\"Fri\"</span><span class=\"pun\">,</span><span class=\"pln\"> </span><span class=\"str\">\"Sat\"</span><span class=\"pun\">,</span><span class=\"pln\"> </span><span class=\"str\">\"Sun\"</span><span class=\"pun\">]</span></li><li class=\"L1\"><span class=\"pln\">   </span><span class=\"lit\">0</span><span class=\"pln\">      </span><span class=\"lit\">1</span><span class=\"pln\">      </span><span class=\"lit\">2</span><span class=\"pln\">      </span><span class=\"lit\">3</span><span class=\"pln\">      </span><span class=\"lit\">4</span><span class=\"pln\">      </span><span class=\"lit\">5</span><span class=\"pln\">      </span><span class=\"lit\">6</span></li></ol></pre></div></div><ul><li><p>And a <strong>negative index</strong> system:</p></li></ul><div class=\"ud-component--base-components--code-block\"><div><pre class=\"prettyprint linenums prettyprinted\" role=\"presentation\" style=\"\"><ol class=\"linenums\"><li class=\"L0\"><span class=\"pun\">[</span><span class=\"str\">\"Mon\"</span><span class=\"pun\">,</span><span class=\"pln\"> </span><span class=\"str\">\"Tue\"</span><span class=\"pun\">,</span><span class=\"pln\"> </span><span class=\"str\">\"Wed\"</span><span class=\"pun\">,</span><span class=\"pln\"> </span><span class=\"str\">\"Thu\"</span><span class=\"pun\">,</span><span class=\"pln\"> </span><span class=\"str\">\"Fri\"</span><span class=\"pun\">,</span><span class=\"pln\"> </span><span class=\"str\">\"Sat\"</span><span class=\"pun\">,</span><span class=\"pln\"> </span><span class=\"str\">\"Sun\"</span><span class=\"pun\">]</span></li><li class=\"L1\"><span class=\"pln\">  </span><span class=\"pun\">-</span><span class=\"lit\">7</span><span class=\"pln\">     </span><span class=\"pun\">-</span><span class=\"lit\">6</span><span class=\"pln\">     </span><span class=\"pun\">-</span><span class=\"lit\">5</span><span class=\"pln\">     </span><span class=\"pun\">-</span><span class=\"lit\">4</span><span class=\"pln\">     </span><span class=\"pun\">-</span><span class=\"lit\">3</span><span class=\"pln\">     </span><span class=\"pun\">-</span><span class=\"lit\">2</span><span class=\"pln\">     </span><span class=\"pun\">-</span><span class=\"lit\">1</span></li></ol></pre></div></div><ul><li><p>In a list, the <strong>2nd</strong>, <strong>3rd</strong>, and <strong>4th</strong> items can be accessed with:</p></li></ul><div class=\"ud-component--base-components--code-block\"><div><pre class=\"prettyprint linenums prettyprinted\" role=\"presentation\" style=\"\"><ol class=\"linenums\"><li class=\"L0\"><span class=\"pln\">days </span><span class=\"pun\">=</span><span class=\"pln\"> </span><span class=\"pun\">[</span><span class=\"str\">\"Mon\"</span><span class=\"pun\">,</span><span class=\"pln\"> </span><span class=\"str\">\"Tue\"</span><span class=\"pun\">,</span><span class=\"pln\"> </span><span class=\"str\">\"Wed\"</span><span class=\"pun\">,</span><span class=\"pln\"> </span><span class=\"str\">\"Thu\"</span><span class=\"pun\">,</span><span class=\"pln\"> </span><span class=\"str\">\"Fri\"</span><span class=\"pun\">,</span><span class=\"pln\"> </span><span class=\"str\">\"Sat\"</span><span class=\"pun\">,</span><span class=\"pln\"> </span><span class=\"str\">\"Sun\"</span><span class=\"pun\">]</span></li><li class=\"L1\"><span class=\"pln\">days</span><span class=\"pun\">[</span><span class=\"lit\">1</span><span class=\"pun\">:</span><span class=\"lit\">4</span><span class=\"pun\">]</span></li><li class=\"L2\"><span class=\"typ\">Output</span><span class=\"pun\">:</span><span class=\"pln\"> </span><span class=\"pun\">[</span><span class=\"str\">'Tue'</span><span class=\"pun\">,</span><span class=\"pln\"> </span><span class=\"str\">'Wed'</span><span class=\"pun\">,</span><span class=\"pln\"> </span><span class=\"str\">'Thu'</span><span class=\"pun\">]</span></li></ol></pre></div></div><ul><li><p><strong>First three items of a list</strong>:</p></li></ul><div class=\"ud-component--base-components--code-block\"><div><pre class=\"prettyprint linenums prettyprinted\" role=\"presentation\" style=\"\"><ol class=\"linenums\"><li class=\"L0\"><span class=\"pln\">days </span><span class=\"pun\">=</span><span class=\"pln\"> </span><span class=\"pun\">[</span><span class=\"str\">\"Mon\"</span><span class=\"pun\">,</span><span class=\"pln\"> </span><span class=\"str\">\"Tue\"</span><span class=\"pun\">,</span><span class=\"pln\"> </span><span class=\"str\">\"Wed\"</span><span class=\"pun\">,</span><span class=\"pln\"> </span><span class=\"str\">\"Thu\"</span><span class=\"pun\">,</span><span class=\"pln\"> </span><span class=\"str\">\"Fri\"</span><span class=\"pun\">,</span><span class=\"pln\"> </span><span class=\"str\">\"Sat\"</span><span class=\"pun\">,</span><span class=\"pln\"> </span><span class=\"str\">\"Sun\"</span><span class=\"pun\">]</span></li><li class=\"L1\"><span class=\"pln\">days</span><span class=\"pun\">[:</span><span class=\"lit\">3</span><span class=\"pun\">]</span></li><li class=\"L2\"><span class=\"typ\">Output</span><span class=\"pun\">:[</span><span class=\"str\">'Mon'</span><span class=\"pun\">,</span><span class=\"pln\"> </span><span class=\"str\">'Tue'</span><span class=\"pun\">,</span><span class=\"pln\"> </span><span class=\"str\">'Wed'</span><span class=\"pun\">]</span><span class=\"pln\">&nbsp;</span></li></ol></pre></div></div><ul><li><p><strong>Last three items of a list</strong>:</p></li></ul><div class=\"ud-component--base-components--code-block\"><div><pre class=\"prettyprint linenums prettyprinted\" role=\"presentation\" style=\"\"><ol class=\"linenums\"><li class=\"L0\"><span class=\"pln\">days </span><span class=\"pun\">=</span><span class=\"pln\"> </span><span class=\"pun\">[</span><span class=\"str\">\"Mon\"</span><span class=\"pun\">,</span><span class=\"pln\"> </span><span class=\"str\">\"Tue\"</span><span class=\"pun\">,</span><span class=\"pln\"> </span><span class=\"str\">\"Wed\"</span><span class=\"pun\">,</span><span class=\"pln\"> </span><span class=\"str\">\"Thu\"</span><span class=\"pun\">,</span><span class=\"pln\"> </span><span class=\"str\">\"Fri\"</span><span class=\"pun\">,</span><span class=\"pln\"> </span><span class=\"str\">\"Sat\"</span><span class=\"pun\">,</span><span class=\"pln\"> </span><span class=\"str\">\"Sun\"</span><span class=\"pun\">]</span></li><li class=\"L1\"><span class=\"pln\">days</span><span class=\"pun\">[-</span><span class=\"lit\">3</span><span class=\"pun\">:]</span></li><li class=\"L2\"><span class=\"typ\">Output</span><span class=\"pun\">:</span><span class=\"pln\"> </span><span class=\"pun\">[</span><span class=\"str\">'Fri'</span><span class=\"pun\">,</span><span class=\"pln\"> </span><span class=\"str\">'Sat'</span><span class=\"pun\">,</span><span class=\"pln\"> </span><span class=\"str\">'Sun'</span><span class=\"pun\">]</span></li></ol></pre></div></div><ul><li><p><strong>Everything but the last</strong>:</p></li></ul><div class=\"ud-component--base-components--code-block\"><div><pre class=\"prettyprint linenums prettyprinted\" role=\"presentation\" style=\"\"><ol class=\"linenums\"><li class=\"L0\"><span class=\"pln\">days </span><span class=\"pun\">=</span><span class=\"pln\"> </span><span class=\"pun\">[</span><span class=\"str\">\"Mon\"</span><span class=\"pun\">,</span><span class=\"pln\"> </span><span class=\"str\">\"Tue\"</span><span class=\"pun\">,</span><span class=\"pln\"> </span><span class=\"str\">\"Wed\"</span><span class=\"pun\">,</span><span class=\"pln\"> </span><span class=\"str\">\"Thu\"</span><span class=\"pun\">,</span><span class=\"pln\"> </span><span class=\"str\">\"Fri\"</span><span class=\"pun\">,</span><span class=\"pln\"> </span><span class=\"str\">\"Sat\"</span><span class=\"pun\">,</span><span class=\"pln\"> </span><span class=\"str\">\"Sun\"</span><span class=\"pun\">]</span></li><li class=\"L1\"><span class=\"pln\">days</span><span class=\"pun\">[:-</span><span class=\"lit\">1</span><span class=\"pun\">]</span><span class=\"pln\">&nbsp;</span></li><li class=\"L2\"><span class=\"typ\">Output</span><span class=\"pun\">:</span><span class=\"pln\">&nbsp;</span><span class=\"pun\">[</span><span class=\"str\">'Mon'</span><span class=\"pun\">,</span><span class=\"pln\"> </span><span class=\"str\">'Tue'</span><span class=\"pun\">,</span><span class=\"pln\"> </span><span class=\"str\">'Wed'</span><span class=\"pun\">,</span><span class=\"pln\"> </span><span class=\"str\">'Thu'</span><span class=\"pun\">,</span><span class=\"pln\"> </span><span class=\"str\">'Fri'</span><span class=\"pun\">,</span><span class=\"pln\"> </span><span class=\"str\">'Sat'</span><span class=\"pun\">]</span><span class=\"pln\">&nbsp;</span></li></ol></pre></div></div><ul><li><p><strong>Everything but the last two</strong>:</p></li></ul><div class=\"ud-component--base-components--code-block\"><div><pre class=\"prettyprint linenums prettyprinted\" role=\"presentation\" style=\"\"><ol class=\"linenums\"><li class=\"L0\"><span class=\"pln\">days </span><span class=\"pun\">=</span><span class=\"pln\"> </span><span class=\"pun\">[</span><span class=\"str\">\"Mon\"</span><span class=\"pun\">,</span><span class=\"pln\"> </span><span class=\"str\">\"Tue\"</span><span class=\"pun\">,</span><span class=\"pln\"> </span><span class=\"str\">\"Wed\"</span><span class=\"pun\">,</span><span class=\"pln\"> </span><span class=\"str\">\"Thu\"</span><span class=\"pun\">,</span><span class=\"pln\"> </span><span class=\"str\">\"Fri\"</span><span class=\"pun\">,</span><span class=\"pln\"> </span><span class=\"str\">\"Sat\"</span><span class=\"pun\">,</span><span class=\"pln\"> </span><span class=\"str\">\"Sun\"</span><span class=\"pun\">]</span></li><li class=\"L1\"><span class=\"pln\">days</span><span class=\"pun\">[:-</span><span class=\"lit\">2</span><span class=\"pun\">]</span><span class=\"pln\">&nbsp;</span></li><li class=\"L2\"><span class=\"typ\">Output</span><span class=\"pun\">:</span><span class=\"pln\">&nbsp;</span><span class=\"pun\">[</span><span class=\"str\">'Mon'</span><span class=\"pun\">,</span><span class=\"pln\"> </span><span class=\"str\">'Tue'</span><span class=\"pun\">,</span><span class=\"pln\"> </span><span class=\"str\">'Wed'</span><span class=\"pun\">,</span><span class=\"pln\"> </span><span class=\"str\">'Thu'</span><span class=\"pun\">,</span><span class=\"pln\"> </span><span class=\"str\">'Fri'</span><span class=\"pun\">]</span><span class=\"pln\">&nbsp;</span></li></ol></pre></div></div><ul><li><p>A single in a <strong>dictionary</strong> can be accessed using its key:</p></li></ul><div class=\"ud-component--base-components--code-block\"><div><pre class=\"prettyprint linenums prettyprinted\" role=\"presentation\" style=\"\"><ol class=\"linenums\"><li class=\"L0\"><span class=\"pln\">phone_numbers </span><span class=\"pun\">=</span><span class=\"pln\"> </span><span class=\"pun\">{</span><span class=\"str\">\"John Smith\"</span><span class=\"pun\">:</span><span class=\"str\">\"+37682929928\"</span><span class=\"pun\">,</span><span class=\"str\">\"Marry Simpsons\"</span><span class=\"pun\">:</span><span class=\"str\">\"+423998200919\"</span><span class=\"pun\">}</span></li><li class=\"L1\"><span class=\"pln\">phone_numbers</span><span class=\"pun\">[</span><span class=\"str\">\"Marry Simpsons\"</span><span class=\"pun\">]</span></li><li class=\"L2\"><span class=\"typ\">Output</span><span class=\"pun\">:</span><span class=\"pln\">&nbsp;</span><span class=\"str\">'+423998200919'</span></li></ol></pre></div></div></div>"
      ],
      "metadata": {
        "id": "h0UXrIaj6gnF"
      }
    }
  ]
}