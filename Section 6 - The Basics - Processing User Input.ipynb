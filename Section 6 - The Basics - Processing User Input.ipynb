{
  "nbformat": 4,
  "nbformat_minor": 0,
  "metadata": {
    "colab": {
      "name": "Section 6 - The Basics - Processing User Input.ipynb",
      "provenance": [],
      "authorship_tag": "ABX9TyNWGbzikozOPtst8kgYIJDX",
      "include_colab_link": true
    },
    "kernelspec": {
      "name": "python3",
      "display_name": "Python 3"
    },
    "language_info": {
      "name": "python"
    }
  },
  "cells": [
    {
      "cell_type": "markdown",
      "metadata": {
        "id": "view-in-github",
        "colab_type": "text"
      },
      "source": [
        "<a href=\"https://colab.research.google.com/github/zaedulislam/The_Python_Mega_Course_Build_10_Real_World_Applications/blob/main/Section%206%20-%20The%20Basics%20-%20Processing%20User%20Input.ipynb\" target=\"_parent\"><img src=\"https://colab.research.google.com/assets/colab-badge.svg\" alt=\"Open In Colab\"/></a>"
      ]
    },
    {
      "cell_type": "markdown",
      "source": [
        "# 49. String Formatting | 50. String Formatting with Multiple Variables"
      ],
      "metadata": {
        "id": "uK4fz10sMrVF"
      }
    },
    {
      "cell_type": "markdown",
      "source": [
        "# Python 2/3.1"
      ],
      "metadata": {
        "id": "HvUAhIMnMvUO"
      }
    },
    {
      "cell_type": "code",
      "execution_count": 4,
      "metadata": {
        "colab": {
          "base_uri": "https://localhost:8080/"
        },
        "id": "OvV0wiASMlQY",
        "outputId": "1236abdb-897c-4424-8758-088021894594"
      },
      "outputs": [
        {
          "output_type": "stream",
          "name": "stdout",
          "text": [
            "Enter username: Jack\n",
            "Hello Jack\n"
          ]
        }
      ],
      "source": [
        "username = input(\"Enter username: \")\n",
        "message = \"Hello %s\" % username\n",
        "print(message)"
      ]
    },
    {
      "cell_type": "code",
      "source": [
        "firstName = input(\"First Name: \")\n",
        "lastName = input(\"Last Name: \")\n",
        "message = \"Hello %s %s\" % (firstName, lastName)\n",
        "print(message)"
      ],
      "metadata": {
        "colab": {
          "base_uri": "https://localhost:8080/"
        },
        "id": "JFdjC8MlNwMr",
        "outputId": "a8c8d91a-7383-47de-9525-b66bfc1d8bbf"
      },
      "execution_count": 8,
      "outputs": [
        {
          "output_type": "stream",
          "name": "stdout",
          "text": [
            "First Name: Zaedul\n",
            "Last Name: Islam\n",
            "Hello Zaedul Islam\n"
          ]
        }
      ]
    },
    {
      "cell_type": "markdown",
      "source": [
        "# Python 3.6 or above"
      ],
      "metadata": {
        "id": "JiiKabHxM2lm"
      }
    },
    {
      "cell_type": "code",
      "source": [
        "username = input(\"Enter username: \")\n",
        "message = f\"Hi {username}\"\n",
        "print(message)"
      ],
      "metadata": {
        "colab": {
          "base_uri": "https://localhost:8080/"
        },
        "id": "kyOqjLZPM24S",
        "outputId": "9669565c-1daf-4aac-ca89-fe5e5f9004b5"
      },
      "execution_count": 3,
      "outputs": [
        {
          "output_type": "stream",
          "name": "stdout",
          "text": [
            "Enter username: Zayed\n",
            "Hi Zayed\n"
          ]
        }
      ]
    },
    {
      "cell_type": "code",
      "source": [
        "firstName = input(\"First Name: \")\n",
        "lastName = input(\"Last Name: \")\n",
        "message = f\"Hi {firstName} {lastName}\"\n",
        "print(message)"
      ],
      "metadata": {
        "colab": {
          "base_uri": "https://localhost:8080/"
        },
        "id": "p8x_O1mSOSKh",
        "outputId": "68d965c2-fc51-45c1-9ece-c81a98dfcf98"
      },
      "execution_count": 10,
      "outputs": [
        {
          "output_type": "stream",
          "name": "stdout",
          "text": [
            "First Name: Zaedul\n",
            "Last Name: Islam\n",
            "Hi Zaedul Islam\n"
          ]
        }
      ]
    },
    {
      "cell_type": "markdown",
      "source": [
        "# Cheatsheet (Processing User Input)\n",
        "\n",
        "<div data-purpose=\"safely-set-inner-html:rich-text-viewer:html\" class=\"article-asset--content--1dAQ9 rich-text-viewer--rich-text-viewer--19N-I\"><p>In this section:</p><ul><li><p>A&nbsp;Python program can get <strong>user input</strong> via the <code>input</code>&nbsp;function:</p></li></ul><ul><li><p>The <strong>input</strong> <strong>function</strong> halts the execution of the program and gets text input from the user<strong>:</strong></p></li></ul><div class=\"ud-component--base-components--code-block\"><div><pre class=\"prettyprint linenums prettyprinted\" role=\"presentation\" style=\"\"><ol class=\"linenums\"><li class=\"L0\"><span class=\"pln\">name </span><span class=\"pun\">=</span><span class=\"pln\"> input</span><span class=\"pun\">(</span><span class=\"str\">\"Enter your name: \"</span><span class=\"pun\">)</span></li></ol></pre></div></div><ul><li><p>The input function converts any <strong>input to a string</strong>, but you can convert it back to int or float:</p></li></ul><div class=\"ud-component--base-components--code-block\"><div><pre class=\"prettyprint linenums prettyprinted\" role=\"presentation\" style=\"\"><ol class=\"linenums\"><li class=\"L0\"><span class=\"pln\">experience_months </span><span class=\"pun\">=</span><span class=\"pln\"> input</span><span class=\"pun\">(</span><span class=\"str\">\"Enter your experience in months: \"</span><span class=\"pun\">)</span></li><li class=\"L1\"><span class=\"pln\">experience_years </span><span class=\"pun\">=</span><span class=\"pln\"> </span><span class=\"kwd\">int</span><span class=\"pun\">(</span><span class=\"pln\">experience_months</span><span class=\"pun\">)</span><span class=\"pln\"> </span><span class=\"pun\">/</span><span class=\"pln\"> </span><span class=\"lit\">12</span></li></ol></pre></div></div><ul><li><p>You can <strong>format strings</strong> with (works both on Python 2 and 3):</p></li></ul><div class=\"ud-component--base-components--code-block\"><div><pre class=\"prettyprint linenums prettyprinted\" role=\"presentation\" style=\"\"><ol class=\"linenums\"><li class=\"L0\"><span class=\"pln\">name </span><span class=\"pun\">=</span><span class=\"pln\"> </span><span class=\"str\">\"Sim\"</span></li><li class=\"L1\"><span class=\"pln\">experience_years </span><span class=\"pun\">=</span><span class=\"pln\"> </span><span class=\"lit\">1.5</span></li><li class=\"L2\"><span class=\"kwd\">print</span><span class=\"pun\">(</span><span class=\"str\">\"Hi %s, you have %s years of experience.\"</span><span class=\"pln\"> </span><span class=\"pun\">%</span><span class=\"pln\"> </span><span class=\"pun\">(</span><span class=\"pln\">name</span><span class=\"pun\">,</span><span class=\"pln\"> experience_years</span><span class=\"pun\">))</span></li></ol></pre></div></div><p>Output:&nbsp;<code>Hi Sim, you have 1.5 years of experience.</code></p><ul><li><p>You can also <strong>format strings</strong> with:</p></li></ul><div class=\"ud-component--base-components--code-block\"><div><pre class=\"prettyprint linenums prettyprinted\" role=\"presentation\" style=\"\"><ol class=\"linenums\"><li class=\"L0\"><span class=\"pln\">name </span><span class=\"pun\">=</span><span class=\"pln\"> </span><span class=\"str\">\"Sim\"</span></li><li class=\"L1\"><span class=\"pln\">experience_years </span><span class=\"pun\">=</span><span class=\"pln\"> </span><span class=\"lit\">1.5</span></li><li class=\"L2\"><span class=\"kwd\">print</span><span class=\"pun\">(</span><span class=\"str\">\"Hi {}, you have {} years of experience\"</span><span class=\"pun\">.</span><span class=\"pln\">format</span><span class=\"pun\">(</span><span class=\"pln\">name</span><span class=\"pun\">,</span><span class=\"pln\"> experience_years</span><span class=\"pun\">))</span></li></ol></pre></div></div><p>Output:&nbsp;<code>Hi Sim, you have 1.5 years of experience.</code></p></div>"
      ],
      "metadata": {
        "id": "8-ccHPAtO66C"
      }
    }
  ]
}