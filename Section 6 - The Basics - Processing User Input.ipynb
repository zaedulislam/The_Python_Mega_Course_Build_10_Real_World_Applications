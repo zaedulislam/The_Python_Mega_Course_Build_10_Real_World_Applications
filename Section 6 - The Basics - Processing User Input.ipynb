{
  "nbformat": 4,
  "nbformat_minor": 0,
  "metadata": {
    "colab": {
      "name": "Section 6 - The Basics - Processing User Input.ipynb",
      "provenance": [],
      "authorship_tag": "ABX9TyMxkcdwuxP4hCpXLhx5V/Bh",
      "include_colab_link": true
    },
    "kernelspec": {
      "name": "python3",
      "display_name": "Python 3"
    },
    "language_info": {
      "name": "python"
    }
  },
  "cells": [
    {
      "cell_type": "markdown",
      "metadata": {
        "id": "view-in-github",
        "colab_type": "text"
      },
      "source": [
        "<a href=\"https://colab.research.google.com/github/zaedulislam/The_Python_Mega_Course_Build_10_Real_World_Applications/blob/main/Section%206%20-%20The%20Basics%20-%20Processing%20User%20Input.ipynb\" target=\"_parent\"><img src=\"https://colab.research.google.com/assets/colab-badge.svg\" alt=\"Open In Colab\"/></a>"
      ]
    },
    {
      "cell_type": "markdown",
      "source": [
        "# 49. String Formatting"
      ],
      "metadata": {
        "id": "uK4fz10sMrVF"
      }
    },
    {
      "cell_type": "markdown",
      "source": [
        "# Python 2/3.1"
      ],
      "metadata": {
        "id": "HvUAhIMnMvUO"
      }
    },
    {
      "cell_type": "code",
      "execution_count": 4,
      "metadata": {
        "colab": {
          "base_uri": "https://localhost:8080/"
        },
        "id": "OvV0wiASMlQY",
        "outputId": "1236abdb-897c-4424-8758-088021894594"
      },
      "outputs": [
        {
          "output_type": "stream",
          "name": "stdout",
          "text": [
            "Enter username: Jack\n",
            "Hello Jack\n"
          ]
        }
      ],
      "source": [
        "username = input(\"Enter username: \")\n",
        "message = \"Hello %s\" % username\n",
        "print(message)"
      ]
    },
    {
      "cell_type": "markdown",
      "source": [
        "# Python 3.6 or above"
      ],
      "metadata": {
        "id": "JiiKabHxM2lm"
      }
    },
    {
      "cell_type": "code",
      "source": [
        "username = input(\"Enter username: \")\n",
        "message = f\"Hi {username}\"\n",
        "print(message)"
      ],
      "metadata": {
        "colab": {
          "base_uri": "https://localhost:8080/"
        },
        "id": "kyOqjLZPM24S",
        "outputId": "9669565c-1daf-4aac-ca89-fe5e5f9004b5"
      },
      "execution_count": 3,
      "outputs": [
        {
          "output_type": "stream",
          "name": "stdout",
          "text": [
            "Enter username: Zayed\n",
            "Hi Zayed\n"
          ]
        }
      ]
    }
  ]
}