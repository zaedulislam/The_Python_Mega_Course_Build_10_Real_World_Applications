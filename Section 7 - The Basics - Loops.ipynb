{
  "nbformat": 4,
  "nbformat_minor": 0,
  "metadata": {
    "colab": {
      "name": "Section 7 - The Basics - Loops.ipynb",
      "provenance": [],
      "collapsed_sections": [],
      "authorship_tag": "ABX9TyNeane9IlZsCffBjZoVH6pX",
      "include_colab_link": true
    },
    "kernelspec": {
      "name": "python3",
      "display_name": "Python 3"
    },
    "language_info": {
      "name": "python"
    }
  },
  "cells": [
    {
      "cell_type": "markdown",
      "metadata": {
        "id": "view-in-github",
        "colab_type": "text"
      },
      "source": [
        "<a href=\"https://colab.research.google.com/github/zaedulislam/The_Python_Mega_Course_Build_10_Real_World_Applications/blob/main/Section%207%20-%20The%20Basics%20-%20Loops.ipynb\" target=\"_parent\"><img src=\"https://colab.research.google.com/assets/colab-badge.svg\" alt=\"Open In Colab\"/></a>"
      ]
    },
    {
      "cell_type": "code",
      "source": [
        "mondayTemperatures = [9.1, 8.8, 7.6]\n",
        "\n",
        "for temperature in mondayTemperatures:\n",
        "    print(round(temperature))\n",
        "\n",
        "for letter in 'hello':\n",
        "    print(letter)\n",
        "    "
      ],
      "metadata": {
        "colab": {
          "base_uri": "https://localhost:8080/"
        },
        "id": "RhZleHI1nha4",
        "outputId": "7b00d08c-7148-4300-84a3-a580023e491f"
      },
      "execution_count": 9,
      "outputs": [
        {
          "output_type": "stream",
          "name": "stdout",
          "text": [
            "9\n",
            "9\n",
            "8\n",
            "h\n",
            "e\n",
            "l\n",
            "l\n",
            "o\n"
          ]
        }
      ]
    },
    {
      "cell_type": "markdown",
      "source": [
        "## Dictionary Loop and String Formatting"
      ],
      "metadata": {
        "id": "s6Sc_ysYPDCF"
      }
    },
    {
      "cell_type": "markdown",
      "source": [
        "### Loop over dictionary items"
      ],
      "metadata": {
        "id": "LdDfLLRFm4GM"
      }
    },
    {
      "cell_type": "code",
      "source": [
        "phoneNumbers = {\"John Smith\":\"+37682929928\",\"Marry Simpons\":\"+423998200919\"}\n",
        "for key, value in phoneNumbers.items():\n",
        "    print(key, value)"
      ],
      "metadata": {
        "colab": {
          "base_uri": "https://localhost:8080/"
        },
        "id": "mC35PbeVm6nD",
        "outputId": "925f0bf0-cdc4-458c-e9d1-adfbdaa8db8a"
      },
      "execution_count": 8,
      "outputs": [
        {
          "output_type": "stream",
          "name": "stdout",
          "text": [
            "John Smith +37682929928\n",
            "Marry Simpons +423998200919\n"
          ]
        }
      ]
    },
    {
      "cell_type": "markdown",
      "source": [
        "### Loop over dictionary keys as follows"
      ],
      "metadata": {
        "id": "bR4af_Z8mRED"
      }
    },
    {
      "cell_type": "code",
      "source": [
        "phoneNumbers = {\"John Smith\":\"+37682929928\",\"Marry Simpons\":\"+423998200919\"}\n",
        "for value in phoneNumbers.keys():\n",
        "    print(value)"
      ],
      "metadata": {
        "colab": {
          "base_uri": "https://localhost:8080/"
        },
        "id": "bHaatQmimRj5",
        "outputId": "8d759be6-8eff-4f93-abc0-3e100662ae10"
      },
      "execution_count": 6,
      "outputs": [
        {
          "output_type": "stream",
          "name": "stdout",
          "text": [
            "John Smith\n",
            "Marry Simpons\n"
          ]
        }
      ]
    },
    {
      "cell_type": "markdown",
      "source": [
        "### Loop over dictionary values"
      ],
      "metadata": {
        "id": "2UZcq2TZmh3x"
      }
    },
    {
      "cell_type": "code",
      "source": [
        "phoneNumbers = {\"John Smith\":\"+37682929928\",\"Marry Simpons\":\"+423998200919\"}\n",
        "for value in phoneNumbers.values():\n",
        "    print(value)\n"
      ],
      "metadata": {
        "colab": {
          "base_uri": "https://localhost:8080/"
        },
        "id": "93vDlydrmfLd",
        "outputId": "89651001-0af8-4687-8cf1-695629261902"
      },
      "execution_count": 7,
      "outputs": [
        {
          "output_type": "stream",
          "name": "stdout",
          "text": [
            "+37682929928\n",
            "+423998200919\n"
          ]
        }
      ]
    },
    {
      "cell_type": "markdown",
      "source": [
        "### Combining a dictionary for loop with string formatting to create text containing information from the dictionary:"
      ],
      "metadata": {
        "id": "ekUQyWo1PoCY"
      }
    },
    {
      "cell_type": "code",
      "execution_count": 2,
      "metadata": {
        "colab": {
          "base_uri": "https://localhost:8080/"
        },
        "id": "Q22lFXAHOw_M",
        "outputId": "72ebd8c4-5921-423b-ad6a-3fd527b07a24"
      },
      "outputs": [
        {
          "output_type": "stream",
          "name": "stdout",
          "text": [
            "John Smith has as phone number +37682929928\n",
            "Marry Simpons has as phone number +423998200919\n"
          ]
        }
      ],
      "source": [
        "phoneNumbers = {\"John Smith\": \"+37682929928\", \"Marry Simpons\": \"+423998200919\"}\n",
        " \n",
        "for pair in phoneNumbers.items():\n",
        "    print(\"{} has as phone number {}\".format(pair[0], pair[1]))"
      ]
    },
    {
      "cell_type": "markdown",
      "source": [
        "### Another (better) way to do it:"
      ],
      "metadata": {
        "id": "KWxJKcMWPuVB"
      }
    },
    {
      "cell_type": "code",
      "source": [
        "phoneNumbers = {\"John Smith\": \"+37682929928\", \"Marry Simpons\": \"+423998200919\"}\n",
        " \n",
        "for key, value in phoneNumbers.items():\n",
        "    print(\"{} has as phone number {}\".format(key, value))"
      ],
      "metadata": {
        "colab": {
          "base_uri": "https://localhost:8080/"
        },
        "id": "qm5Wk6QUPwvz",
        "outputId": "ad96f9a2-294d-4892-cc9f-3791c9bb71d5"
      },
      "execution_count": 3,
      "outputs": [
        {
          "output_type": "stream",
          "name": "stdout",
          "text": [
            "John Smith has as phone number +37682929928\n",
            "Marry Simpons has as phone number +423998200919\n"
          ]
        }
      ]
    },
    {
      "cell_type": "markdown",
      "source": [
        "### While Loops Example with User Input"
      ],
      "metadata": {
        "id": "8x2xFjVAfbDx"
      }
    },
    {
      "cell_type": "code",
      "source": [
        "username = ''\n",
        "\n",
        "while username != 'pypy':\n",
        "    username = input(\"Enter username: \")"
      ],
      "metadata": {
        "colab": {
          "base_uri": "https://localhost:8080/"
        },
        "id": "GrFh2s0rfMpK",
        "outputId": "d8d8f010-bf3c-4a21-91a4-a9852b864de5"
      },
      "execution_count": 4,
      "outputs": [
        {
          "name": "stdout",
          "output_type": "stream",
          "text": [
            "Enter username: John\n",
            "Enter username: pypy\n"
          ]
        }
      ]
    },
    {
      "cell_type": "markdown",
      "source": [
        "### While Loops with Break and Continue"
      ],
      "metadata": {
        "id": "8VumTWthf6wr"
      }
    },
    {
      "cell_type": "code",
      "source": [
        "while True:\n",
        "    username = input(\"Enter username: \")\n",
        "    if username == 'pypy':\n",
        "        break\n",
        "    else:\n",
        "        continue"
      ],
      "metadata": {
        "colab": {
          "base_uri": "https://localhost:8080/"
        },
        "id": "TBf8hvxXf9uz",
        "outputId": "4f3bcb35-a79e-4403-e1ee-ec7153c51d9f"
      },
      "execution_count": 5,
      "outputs": [
        {
          "name": "stdout",
          "output_type": "stream",
          "text": [
            "Enter username: Zayed\n",
            "Enter username: Rambo\n",
            "Enter username: Terminator\n",
            "Enter username: pypy\n"
          ]
        }
      ]
    }
  ]
}