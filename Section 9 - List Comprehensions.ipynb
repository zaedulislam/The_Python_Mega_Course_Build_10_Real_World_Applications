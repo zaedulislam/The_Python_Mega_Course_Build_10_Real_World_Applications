{
  "nbformat": 4,
  "nbformat_minor": 0,
  "metadata": {
    "colab": {
      "name": "Section 9 - List Comprehensions.ipynb",
      "provenance": [],
      "authorship_tag": "ABX9TyNK/cvMFE+dkAg0D5BeZSWP",
      "include_colab_link": true
    },
    "kernelspec": {
      "name": "python3",
      "display_name": "Python 3"
    },
    "language_info": {
      "name": "python"
    }
  },
  "cells": [
    {
      "cell_type": "markdown",
      "metadata": {
        "id": "view-in-github",
        "colab_type": "text"
      },
      "source": [
        "<a href=\"https://colab.research.google.com/github/zaedulislam/The_Python_Mega_Course_Build_10_Real_World_Applications/blob/main/Section%209%20-%20List%20Comprehensions.ipynb\" target=\"_parent\"><img src=\"https://colab.research.google.com/assets/colab-badge.svg\" alt=\"Open In Colab\"/></a>"
      ]
    },
    {
      "cell_type": "markdown",
      "source": [
        "## 66. Simple List Comprehension"
      ],
      "metadata": {
        "id": "0K01HXV7Uote"
      }
    },
    {
      "cell_type": "code",
      "execution_count": 1,
      "metadata": {
        "colab": {
          "base_uri": "https://localhost:8080/"
        },
        "id": "AheaiXL3Tqop",
        "outputId": "5e401117-69f7-4b9b-adf4-8a3da0f77b5b"
      },
      "outputs": [
        {
          "output_type": "stream",
          "name": "stdout",
          "text": [
            "[22.1, 23.4, 34.0, 23.0]\n"
          ]
        }
      ],
      "source": [
        "temperatures = [221, 234, 340, 230]\n",
        "\n",
        "modifiedTemperatures = []\n",
        "\n",
        "for temperature in temperatures:\n",
        "    modifiedTemperatures.append(temperature / 10)\n",
        "\n",
        "print(modifiedTemperatures)"
      ]
    },
    {
      "cell_type": "markdown",
      "source": [
        "There is a netter way to do the above in just one line of Python code, and that is by using list comprehensions. It goes as follows."
      ],
      "metadata": {
        "id": "OrmZOnnGW5hX"
      }
    },
    {
      "cell_type": "code",
      "source": [
        "temperatures = [221, 234, 340, 230]\n",
        "\n",
        "modifiedTemperatures = [temperature / 10 for temperature in temperatures]\n",
        "\n",
        "print(modifiedTemperatures)"
      ],
      "metadata": {
        "colab": {
          "base_uri": "https://localhost:8080/"
        },
        "id": "53pB0CHfWSvC",
        "outputId": "15a3bd04-f845-4e66-f1c0-89cae5438b1a"
      },
      "execution_count": 2,
      "outputs": [
        {
          "output_type": "stream",
          "name": "stdout",
          "text": [
            "[22.1, 23.4, 34.0, 23.0]\n"
          ]
        }
      ]
    },
    {
      "cell_type": "markdown",
      "source": [
        "## 67. List Comprehension with If Conditional"
      ],
      "metadata": {
        "id": "B9aJXH2lWw_c"
      }
    },
    {
      "cell_type": "code",
      "source": [
        "temperatures = [221, 234, 340, -9999, 230]\n",
        "\n",
        "modifiedTemperatures = [temperature / 10 for temperature in temperatures if temperature != -9999]\n",
        "\n",
        "print(modifiedTemperatures)"
      ],
      "metadata": {
        "colab": {
          "base_uri": "https://localhost:8080/"
        },
        "id": "2I-AP5kpXK2h",
        "outputId": "8e50a1fd-c2ee-40ac-d3c7-9fd01558e044"
      },
      "execution_count": 3,
      "outputs": [
        {
          "output_type": "stream",
          "name": "stdout",
          "text": [
            "[22.1, 23.4, 34.0, 23.0]\n"
          ]
        }
      ]
    }
  ]
}