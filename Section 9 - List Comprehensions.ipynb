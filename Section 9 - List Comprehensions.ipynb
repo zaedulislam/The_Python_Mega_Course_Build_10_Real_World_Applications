{
  "nbformat": 4,
  "nbformat_minor": 0,
  "metadata": {
    "colab": {
      "name": "Section 9 - List Comprehensions.ipynb",
      "provenance": [],
      "authorship_tag": "ABX9TyM5M/H4Oi43nW7/0x6pixC1",
      "include_colab_link": true
    },
    "kernelspec": {
      "name": "python3",
      "display_name": "Python 3"
    },
    "language_info": {
      "name": "python"
    }
  },
  "cells": [
    {
      "cell_type": "markdown",
      "metadata": {
        "id": "view-in-github",
        "colab_type": "text"
      },
      "source": [
        "<a href=\"https://colab.research.google.com/github/zaedulislam/The_Python_Mega_Course_Build_10_Real_World_Applications/blob/main/Section%209%20-%20List%20Comprehensions.ipynb\" target=\"_parent\"><img src=\"https://colab.research.google.com/assets/colab-badge.svg\" alt=\"Open In Colab\"/></a>"
      ]
    },
    {
      "cell_type": "markdown",
      "source": [
        "## 66. Simple List Comprehension"
      ],
      "metadata": {
        "id": "0K01HXV7Uote"
      }
    },
    {
      "cell_type": "code",
      "execution_count": 1,
      "metadata": {
        "colab": {
          "base_uri": "https://localhost:8080/"
        },
        "id": "AheaiXL3Tqop",
        "outputId": "5e401117-69f7-4b9b-adf4-8a3da0f77b5b"
      },
      "outputs": [
        {
          "output_type": "stream",
          "name": "stdout",
          "text": [
            "[22.1, 23.4, 34.0, 23.0]\n"
          ]
        }
      ],
      "source": [
        "temperatures = [221, 234, 340, 230]\n",
        "\n",
        "modifiedTemperatures = []\n",
        "\n",
        "for temperature in temperatures:\n",
        "    modifiedTemperatures.append(temperature / 10)\n",
        "\n",
        "print(modifiedTemperatures)"
      ]
    },
    {
      "cell_type": "markdown",
      "source": [
        "There is a netter way to do the above in just one line of Python code, and that is by using list comprehensions. It goes as follows."
      ],
      "metadata": {
        "id": "OrmZOnnGW5hX"
      }
    },
    {
      "cell_type": "code",
      "source": [
        "temperatures = [221, 234, 340, 230]\n",
        "\n",
        "modifiedTemperatures = [temperature / 10 for temperature in temperatures]\n",
        "\n",
        "print(modifiedTemperatures)"
      ],
      "metadata": {
        "colab": {
          "base_uri": "https://localhost:8080/"
        },
        "id": "53pB0CHfWSvC",
        "outputId": "15a3bd04-f845-4e66-f1c0-89cae5438b1a"
      },
      "execution_count": 2,
      "outputs": [
        {
          "output_type": "stream",
          "name": "stdout",
          "text": [
            "[22.1, 23.4, 34.0, 23.0]\n"
          ]
        }
      ]
    },
    {
      "cell_type": "markdown",
      "source": [
        "## 67. List Comprehension with If Conditional"
      ],
      "metadata": {
        "id": "B9aJXH2lWw_c"
      }
    },
    {
      "cell_type": "code",
      "source": [
        "temperatures = [221, 234, 340, -9999, 230]\n",
        "\n",
        "modifiedTemperatures = [temperature / 10 for temperature in temperatures if temperature != -9999]\n",
        "\n",
        "print(modifiedTemperatures)"
      ],
      "metadata": {
        "colab": {
          "base_uri": "https://localhost:8080/"
        },
        "id": "2I-AP5kpXK2h",
        "outputId": "5f022750-4266-4b4a-a90e-dd6ce51a9e97"
      },
      "execution_count": 5,
      "outputs": [
        {
          "output_type": "stream",
          "name": "stdout",
          "text": [
            "[22.1, 23.4, 34.0, 23.0]\n"
          ]
        }
      ]
    },
    {
      "cell_type": "markdown",
      "source": [
        "<p>Define a function that takes as a parameter a list that contains both <em>integers </em>and <em>strings </em>and returns the list containing only the <em>integers</em>. For example, if I&nbsp;called your function with <code>foo([99, 'no data', 95, 94, 'no data'])</code> it should return <code>[99, 95, 94]</code>.</p>"
      ],
      "metadata": {
        "id": "9bMLbv-IcO02"
      }
    },
    {
      "cell_type": "code",
      "source": [
        "def onlyNumbers(container):\n",
        "    result = [value for value in container if isinstance(value, int)]\n",
        "    \n",
        "    return result"
      ],
      "metadata": {
        "id": "m1RMrTtJcOAB"
      },
      "execution_count": null,
      "outputs": []
    },
    {
      "cell_type": "markdown",
      "source": [
        "<p>Define a function that takes as parameter list of numbers and returns the list containing only the numbers that are greater than 0. For example, I&nbsp;called your function with <code>foo([-5, 3, -1, 101])</code> it should return <code>[3, 101]</code>.</p>"
      ],
      "metadata": {
        "id": "Qm8CyOqccuVZ"
      }
    },
    {
      "cell_type": "code",
      "source": [
        "def onlyPositiveIntegers(container):\n",
        "    return [value for value in container if value > 0]"
      ],
      "metadata": {
        "id": "571Qsp6Zct3z"
      },
      "execution_count": null,
      "outputs": []
    },
    {
      "cell_type": "markdown",
      "source": [
        "## 68. List Comprehension with If-Else Conditional"
      ],
      "metadata": {
        "id": "9Jw3NYOFc399"
      }
    },
    {
      "cell_type": "code",
      "source": [
        "temperatures = [221, 234, 340, -9999, 230]\n",
        "modifiedTemperatures = []\n",
        "\n",
        "for temperature in temperatures:\n",
        "    if temperature != -9999:\n",
        "       modifiedTemperatures.append(temperature) \n",
        "    else: \n",
        "        modifiedTemperatures.append(0)\n",
        "\n",
        "print(modifiedTemperatures)"
      ],
      "metadata": {
        "id": "EHsIFd5re5Yr"
      },
      "execution_count": null,
      "outputs": []
    },
    {
      "cell_type": "code",
      "source": [
        "temperatures = [221, 234, 340, -9999, 230]\n",
        "\n",
        "modifiedTemperatures = [temperature / 10 if temperature != -9999 else 0 for temperature in temperatures]\n",
        "\n",
        "print(modifiedTemperatures)"
      ],
      "metadata": {
        "colab": {
          "base_uri": "https://localhost:8080/"
        },
        "id": "2AeoptZodMbC",
        "outputId": "636161b1-5332-454c-96b8-e03420726ca2"
      },
      "execution_count": 9,
      "outputs": [
        {
          "output_type": "stream",
          "name": "stdout",
          "text": [
            "[221, 234, 340, 0, 230]\n"
          ]
        }
      ]
    },
    {
      "cell_type": "markdown",
      "source": [
        "<p>Define a function that takes as parameter a list that contains both numbers and strings and returns the same list but with zeros instead of strings. For example, I&nbsp;called your function with <code>foo([99, 'no data', 95, 94, 'no data'])</code> it should return <code>[99, 0, 95, 94, 0]</code>.</p>"
      ],
      "metadata": {
        "id": "hPqyCDsagbEH"
      }
    },
    {
      "cell_type": "code",
      "source": [
        "def zerosInstead(container):\n",
        "    return [value if isinstance(value, int) else 0 for value in container]\n",
        "\n",
        "# Alternate approach\n",
        "def foo(lst):\n",
        "    return [i if not isinstance(i, str) else 0 for i in lst]"
      ],
      "metadata": {
        "id": "jkmXGL3UgaVy"
      },
      "execution_count": null,
      "outputs": []
    },
    {
      "cell_type": "markdown",
      "source": [
        "<p>Define a function that takes as parameter a list that contains decimal numbers as strings and returns the sum of those numbers. For example, I&nbsp;called your function with <code>foo(['1.2', '2.6', '3.3'])</code> it should return <code>7.1</code>. Note that the floats of the input list are string datatypes.</p>"
      ],
      "metadata": {
        "id": "Lo0GxDEOgz8x"
      }
    },
    {
      "cell_type": "code",
      "source": [
        "def convertAndSumUp(container):\n",
        "    return sum([float(value) for value in container])"
      ],
      "metadata": {
        "id": "MPt_AWQxgzlW"
      },
      "execution_count": 10,
      "outputs": []
    },
    {
      "cell_type": "markdown",
      "source": [
        "## Cheatsheet (List Comprehensions)"
      ],
      "metadata": {
        "id": "MXkB5eK8hZvN"
      }
    },
    {
      "cell_type": "markdown",
      "source": [
        "<div data-purpose=\"safely-set-inner-html:rich-text-viewer:html\" class=\"article-asset--content--1dAQ9 rich-text-viewer--rich-text-viewer--19N-I\"><ul><li><p>A&nbsp;list comprehension is an expression that creates a list by iterating over another container. </p></li><li><p>A <strong>basic </strong>list comprehension:</p><div class=\"ud-component--base-components--code-block\"><div><pre class=\"prettyprint linenums prettyprinted\" role=\"presentation\" style=\"\"><ol class=\"linenums\"><li class=\"L0\"><span class=\"pun\">[</span><span class=\"pln\">i</span><span class=\"pun\">*</span><span class=\"lit\">2</span><span class=\"pln\"> </span><span class=\"kwd\">for</span><span class=\"pln\"> i </span><span class=\"kwd\">in</span><span class=\"pln\"> </span><span class=\"pun\">[</span><span class=\"lit\">1</span><span class=\"pun\">,</span><span class=\"pln\"> </span><span class=\"lit\">5</span><span class=\"pun\">,</span><span class=\"pln\"> </span><span class=\"lit\">10</span><span class=\"pun\">]]</span></li></ol></pre></div></div><p>Output:&nbsp;<code>[2, 10, 20]</code></p></li><li><p>List comprehension with <strong>if</strong> condition:</p><div class=\"ud-component--base-components--code-block\"><div><pre class=\"prettyprint linenums prettyprinted\" role=\"presentation\" style=\"\"><ol class=\"linenums\"><li class=\"L0\"><span class=\"pun\">[</span><span class=\"pln\">i</span><span class=\"pun\">*</span><span class=\"lit\">2</span><span class=\"pln\"> </span><span class=\"kwd\">for</span><span class=\"pln\"> i </span><span class=\"kwd\">in</span><span class=\"pln\"> </span><span class=\"pun\">[</span><span class=\"lit\">1</span><span class=\"pun\">,</span><span class=\"pln\"> </span><span class=\"pun\">-</span><span class=\"lit\">2</span><span class=\"pun\">,</span><span class=\"pln\"> </span><span class=\"lit\">10</span><span class=\"pun\">]</span><span class=\"pln\"> </span><span class=\"kwd\">if</span><span class=\"pln\"> i</span><span class=\"pun\">&gt;</span><span class=\"lit\">0</span><span class=\"pun\">]</span></li></ol></pre></div></div><p>Output:&nbsp;<code>[2, 20]</code></p></li><li><p>List comprehension with an <strong>if</strong> <strong>and</strong> <strong>else</strong> condition:</p><div class=\"ud-component--base-components--code-block\"><div><pre class=\"prettyprint linenums prettyprinted\" role=\"presentation\" style=\"\"><ol class=\"linenums\"><li class=\"L0\"><span class=\"pun\">[</span><span class=\"pln\">i</span><span class=\"pun\">*</span><span class=\"lit\">2</span><span class=\"pln\"> </span><span class=\"kwd\">if</span><span class=\"pln\"> i</span><span class=\"pun\">&gt;</span><span class=\"lit\">0</span><span class=\"pln\"> </span><span class=\"kwd\">else</span><span class=\"pln\"> </span><span class=\"lit\">0</span><span class=\"pln\"> </span><span class=\"kwd\">for</span><span class=\"pln\"> i </span><span class=\"kwd\">in</span><span class=\"pln\"> </span><span class=\"pun\">[</span><span class=\"lit\">1</span><span class=\"pun\">,</span><span class=\"pln\"> </span><span class=\"pun\">-</span><span class=\"lit\">2</span><span class=\"pun\">,</span><span class=\"pln\"> </span><span class=\"lit\">10</span><span class=\"pun\">]]</span></li></ol></pre></div></div><p>Output:&nbsp;<code>[2, 0, 20]</code></p></li></ul></div>"
      ],
      "metadata": {
        "id": "x6ow9Mehhs8s"
      }
    }
  ]
}